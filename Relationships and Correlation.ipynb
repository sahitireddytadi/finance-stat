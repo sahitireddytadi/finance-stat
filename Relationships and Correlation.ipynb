{
 "cells": [
  {
   "cell_type": "markdown",
   "metadata": {},
   "source": [
    "In this notebook the relationship between different features is visualized using regression plots. Relationships can be linear, non linear, monotonic and no relationship at all. Correlation is used to measure the strength of the relationship."
   ]
  },
  {
   "cell_type": "markdown",
   "metadata": {},
   "source": [
    "__Pearson product moment correlation:__\n",
    "The Pearson correlation evaluates the linear relationship between two continuous variables. A relationship is linear when a change in one variable is associated with a proportional change in the other variable.\n",
    "\n",
    "__Spearman rank-order correlation:__\n",
    "The Spearman correlation evaluates the monotonic relationship between two continuous or ordinal variables. In a monotonic relationship, the variables tend to change together, but not necessarily at a constant rate. The Spearman correlation coefficient is based on the ranked values for each variable rather than the raw data.\n",
    "\n",
    "*It is always a good idea to examine the relationship between variables with a scatterplot. Correlation coefficients only measure linear (Pearson) or monotonic (Spearman) relationships. Other relationships are possible.*"
   ]
  },
  {
   "cell_type": "code",
   "execution_count": 1,
   "metadata": {},
   "outputs": [],
   "source": [
    "import warnings\n",
    "warnings.simplefilter(action=\"ignore\", category=FutureWarning)\n",
    "warnings.simplefilter(action=\"ignore\", category=Warning)\n",
    "\n",
    "import pandas as pd\n",
    "import numpy as np\n",
    "import seaborn as sns\n",
    "import scipy.stats as stats\n",
    "import matplotlib.pyplot as plt\n",
    "%matplotlib inline"
   ]
  },
  {
   "cell_type": "code",
   "execution_count": 2,
   "metadata": {},
   "outputs": [],
   "source": [
    "loan_df = pd.read_csv('loan_analysis_summary.csv')"
   ]
  },
  {
   "cell_type": "code",
   "execution_count": 3,
   "metadata": {},
   "outputs": [
    {
     "data": {
      "text/html": [
       "<div>\n",
       "<style scoped>\n",
       "    .dataframe tbody tr th:only-of-type {\n",
       "        vertical-align: middle;\n",
       "    }\n",
       "\n",
       "    .dataframe tbody tr th {\n",
       "        vertical-align: top;\n",
       "    }\n",
       "\n",
       "    .dataframe thead th {\n",
       "        text-align: right;\n",
       "    }\n",
       "</style>\n",
       "<table border=\"1\" class=\"dataframe\">\n",
       "  <thead>\n",
       "    <tr style=\"text-align: right;\">\n",
       "      <th></th>\n",
       "      <th>fico_score</th>\n",
       "      <th>loan_total</th>\n",
       "      <th>default_total</th>\n",
       "      <th>dti</th>\n",
       "      <th>avg_loan_amnt</th>\n",
       "      <th>median_annual_inc</th>\n",
       "      <th>avg_annual_inc</th>\n",
       "      <th>int_rate</th>\n",
       "      <th>default_rate</th>\n",
       "      <th>actual_default_rate</th>\n",
       "    </tr>\n",
       "  </thead>\n",
       "  <tbody>\n",
       "    <tr>\n",
       "      <th>0</th>\n",
       "      <td>500</td>\n",
       "      <td>3585</td>\n",
       "      <td>3183</td>\n",
       "      <td>19.737013</td>\n",
       "      <td>13660.71827</td>\n",
       "      <td>55000</td>\n",
       "      <td>63396.10292</td>\n",
       "      <td>15.352285</td>\n",
       "      <td>2.463470</td>\n",
       "      <td>0.520266</td>\n",
       "    </tr>\n",
       "    <tr>\n",
       "      <th>1</th>\n",
       "      <td>510</td>\n",
       "      <td>8223</td>\n",
       "      <td>7191</td>\n",
       "      <td>19.747810</td>\n",
       "      <td>13889.67226</td>\n",
       "      <td>56000</td>\n",
       "      <td>65446.52263</td>\n",
       "      <td>15.440212</td>\n",
       "      <td>5.565445</td>\n",
       "      <td>1.175378</td>\n",
       "    </tr>\n",
       "    <tr>\n",
       "      <th>2</th>\n",
       "      <td>520</td>\n",
       "      <td>9792</td>\n",
       "      <td>8370</td>\n",
       "      <td>20.085761</td>\n",
       "      <td>14186.13920</td>\n",
       "      <td>58728</td>\n",
       "      <td>68261.38708</td>\n",
       "      <td>15.312451</td>\n",
       "      <td>6.477927</td>\n",
       "      <td>1.368087</td>\n",
       "    </tr>\n",
       "    <tr>\n",
       "      <th>3</th>\n",
       "      <td>530</td>\n",
       "      <td>10984</td>\n",
       "      <td>9254</td>\n",
       "      <td>20.253199</td>\n",
       "      <td>14487.00838</td>\n",
       "      <td>60000</td>\n",
       "      <td>69041.52340</td>\n",
       "      <td>15.449011</td>\n",
       "      <td>7.162095</td>\n",
       "      <td>1.512578</td>\n",
       "    </tr>\n",
       "    <tr>\n",
       "      <th>4</th>\n",
       "      <td>540</td>\n",
       "      <td>12333</td>\n",
       "      <td>10127</td>\n",
       "      <td>20.770446</td>\n",
       "      <td>14756.36706</td>\n",
       "      <td>60000</td>\n",
       "      <td>69948.95243</td>\n",
       "      <td>15.271022</td>\n",
       "      <td>7.837750</td>\n",
       "      <td>1.655271</td>\n",
       "    </tr>\n",
       "  </tbody>\n",
       "</table>\n",
       "</div>"
      ],
      "text/plain": [
       "   fico_score  loan_total  default_total        dti  avg_loan_amnt  \\\n",
       "0         500        3585           3183  19.737013    13660.71827   \n",
       "1         510        8223           7191  19.747810    13889.67226   \n",
       "2         520        9792           8370  20.085761    14186.13920   \n",
       "3         530       10984           9254  20.253199    14487.00838   \n",
       "4         540       12333          10127  20.770446    14756.36706   \n",
       "\n",
       "   median_annual_inc  avg_annual_inc   int_rate  default_rate  \\\n",
       "0              55000     63396.10292  15.352285      2.463470   \n",
       "1              56000     65446.52263  15.440212      5.565445   \n",
       "2              58728     68261.38708  15.312451      6.477927   \n",
       "3              60000     69041.52340  15.449011      7.162095   \n",
       "4              60000     69948.95243  15.271022      7.837750   \n",
       "\n",
       "   actual_default_rate  \n",
       "0             0.520266  \n",
       "1             1.175378  \n",
       "2             1.368087  \n",
       "3             1.512578  \n",
       "4             1.655271  "
      ]
     },
     "execution_count": 3,
     "metadata": {},
     "output_type": "execute_result"
    }
   ],
   "source": [
    "loan_df.head()"
   ]
  },
  {
   "cell_type": "code",
   "execution_count": 4,
   "metadata": {},
   "outputs": [
    {
     "data": {
      "text/plain": [
       "(36, 10)"
      ]
     },
     "execution_count": 4,
     "metadata": {},
     "output_type": "execute_result"
    }
   ],
   "source": [
    "loan_df.shape"
   ]
  },
  {
   "cell_type": "code",
   "execution_count": 5,
   "metadata": {},
   "outputs": [
    {
     "data": {
      "text/html": [
       "<div>\n",
       "<style scoped>\n",
       "    .dataframe tbody tr th:only-of-type {\n",
       "        vertical-align: middle;\n",
       "    }\n",
       "\n",
       "    .dataframe tbody tr th {\n",
       "        vertical-align: top;\n",
       "    }\n",
       "\n",
       "    .dataframe thead th {\n",
       "        text-align: right;\n",
       "    }\n",
       "</style>\n",
       "<table border=\"1\" class=\"dataframe\">\n",
       "  <thead>\n",
       "    <tr style=\"text-align: right;\">\n",
       "      <th></th>\n",
       "      <th>fico_score</th>\n",
       "      <th>loan_total</th>\n",
       "      <th>default_total</th>\n",
       "      <th>dti</th>\n",
       "      <th>avg_loan_amnt</th>\n",
       "      <th>median_annual_inc</th>\n",
       "      <th>avg_annual_inc</th>\n",
       "      <th>int_rate</th>\n",
       "      <th>default_rate</th>\n",
       "      <th>actual_default_rate</th>\n",
       "    </tr>\n",
       "  </thead>\n",
       "  <tbody>\n",
       "    <tr>\n",
       "      <th>count</th>\n",
       "      <td>36.000000</td>\n",
       "      <td>36.000000</td>\n",
       "      <td>36.000000</td>\n",
       "      <td>36.000000</td>\n",
       "      <td>36.000000</td>\n",
       "      <td>36.000000</td>\n",
       "      <td>36.000000</td>\n",
       "      <td>36.000000</td>\n",
       "      <td>36.000000</td>\n",
       "      <td>36.000000</td>\n",
       "    </tr>\n",
       "    <tr>\n",
       "      <th>mean</th>\n",
       "      <td>675.000000</td>\n",
       "      <td>16994.527778</td>\n",
       "      <td>3589.111111</td>\n",
       "      <td>18.790417</td>\n",
       "      <td>15088.569697</td>\n",
       "      <td>65678.583333</td>\n",
       "      <td>77391.960108</td>\n",
       "      <td>12.520384</td>\n",
       "      <td>2.777778</td>\n",
       "      <td>0.586645</td>\n",
       "    </tr>\n",
       "    <tr>\n",
       "      <th>std</th>\n",
       "      <td>105.356538</td>\n",
       "      <td>11917.752515</td>\n",
       "      <td>3512.765608</td>\n",
       "      <td>1.690671</td>\n",
       "      <td>1633.584599</td>\n",
       "      <td>6846.614297</td>\n",
       "      <td>8038.473538</td>\n",
       "      <td>2.560128</td>\n",
       "      <td>2.718690</td>\n",
       "      <td>0.574166</td>\n",
       "    </tr>\n",
       "    <tr>\n",
       "      <th>min</th>\n",
       "      <td>500.000000</td>\n",
       "      <td>124.000000</td>\n",
       "      <td>3.000000</td>\n",
       "      <td>14.676210</td>\n",
       "      <td>12994.231600</td>\n",
       "      <td>55000.000000</td>\n",
       "      <td>63396.102920</td>\n",
       "      <td>7.585562</td>\n",
       "      <td>0.002322</td>\n",
       "      <td>0.000490</td>\n",
       "    </tr>\n",
       "    <tr>\n",
       "      <th>25%</th>\n",
       "      <td>587.500000</td>\n",
       "      <td>10452.750000</td>\n",
       "      <td>214.250000</td>\n",
       "      <td>17.650570</td>\n",
       "      <td>14038.181180</td>\n",
       "      <td>61297.500000</td>\n",
       "      <td>72364.301710</td>\n",
       "      <td>10.453639</td>\n",
       "      <td>0.165818</td>\n",
       "      <td>0.035019</td>\n",
       "    </tr>\n",
       "    <tr>\n",
       "      <th>50%</th>\n",
       "      <td>675.000000</td>\n",
       "      <td>12519.500000</td>\n",
       "      <td>2886.500000</td>\n",
       "      <td>19.083851</td>\n",
       "      <td>14857.024775</td>\n",
       "      <td>63000.000000</td>\n",
       "      <td>74919.065440</td>\n",
       "      <td>13.556549</td>\n",
       "      <td>2.233995</td>\n",
       "      <td>0.471802</td>\n",
       "    </tr>\n",
       "    <tr>\n",
       "      <th>75%</th>\n",
       "      <td>762.500000</td>\n",
       "      <td>23774.500000</td>\n",
       "      <td>6123.750000</td>\n",
       "      <td>20.165171</td>\n",
       "      <td>15353.673887</td>\n",
       "      <td>68250.000000</td>\n",
       "      <td>80706.824483</td>\n",
       "      <td>14.732548</td>\n",
       "      <td>4.739451</td>\n",
       "      <td>1.000935</td>\n",
       "    </tr>\n",
       "    <tr>\n",
       "      <th>max</th>\n",
       "      <td>850.000000</td>\n",
       "      <td>40444.000000</td>\n",
       "      <td>10164.000000</td>\n",
       "      <td>20.974137</td>\n",
       "      <td>20082.459680</td>\n",
       "      <td>83750.000000</td>\n",
       "      <td>98683.805750</td>\n",
       "      <td>15.449011</td>\n",
       "      <td>7.866386</td>\n",
       "      <td>1.661319</td>\n",
       "    </tr>\n",
       "  </tbody>\n",
       "</table>\n",
       "</div>"
      ],
      "text/plain": [
       "       fico_score    loan_total  default_total        dti  avg_loan_amnt  \\\n",
       "count   36.000000     36.000000      36.000000  36.000000      36.000000   \n",
       "mean   675.000000  16994.527778    3589.111111  18.790417   15088.569697   \n",
       "std    105.356538  11917.752515    3512.765608   1.690671    1633.584599   \n",
       "min    500.000000    124.000000       3.000000  14.676210   12994.231600   \n",
       "25%    587.500000  10452.750000     214.250000  17.650570   14038.181180   \n",
       "50%    675.000000  12519.500000    2886.500000  19.083851   14857.024775   \n",
       "75%    762.500000  23774.500000    6123.750000  20.165171   15353.673887   \n",
       "max    850.000000  40444.000000   10164.000000  20.974137   20082.459680   \n",
       "\n",
       "       median_annual_inc  avg_annual_inc   int_rate  default_rate  \\\n",
       "count          36.000000       36.000000  36.000000     36.000000   \n",
       "mean        65678.583333    77391.960108  12.520384      2.777778   \n",
       "std          6846.614297     8038.473538   2.560128      2.718690   \n",
       "min         55000.000000    63396.102920   7.585562      0.002322   \n",
       "25%         61297.500000    72364.301710  10.453639      0.165818   \n",
       "50%         63000.000000    74919.065440  13.556549      2.233995   \n",
       "75%         68250.000000    80706.824483  14.732548      4.739451   \n",
       "max         83750.000000    98683.805750  15.449011      7.866386   \n",
       "\n",
       "       actual_default_rate  \n",
       "count            36.000000  \n",
       "mean              0.586645  \n",
       "std               0.574166  \n",
       "min               0.000490  \n",
       "25%               0.035019  \n",
       "50%               0.471802  \n",
       "75%               1.000935  \n",
       "max               1.661319  "
      ]
     },
     "execution_count": 5,
     "metadata": {},
     "output_type": "execute_result"
    }
   ],
   "source": [
    "loan_df.describe()"
   ]
  },
  {
   "cell_type": "code",
   "execution_count": 6,
   "metadata": {},
   "outputs": [
    {
     "data": {
      "text/html": [
       "<div>\n",
       "<style scoped>\n",
       "    .dataframe tbody tr th:only-of-type {\n",
       "        vertical-align: middle;\n",
       "    }\n",
       "\n",
       "    .dataframe tbody tr th {\n",
       "        vertical-align: top;\n",
       "    }\n",
       "\n",
       "    .dataframe thead th {\n",
       "        text-align: right;\n",
       "    }\n",
       "</style>\n",
       "<table border=\"1\" class=\"dataframe\">\n",
       "  <thead>\n",
       "    <tr style=\"text-align: right;\">\n",
       "      <th></th>\n",
       "      <th>fico_score</th>\n",
       "      <th>loan_total</th>\n",
       "      <th>default_total</th>\n",
       "      <th>dti</th>\n",
       "      <th>avg_loan_amnt</th>\n",
       "      <th>median_annual_inc</th>\n",
       "      <th>avg_annual_inc</th>\n",
       "      <th>int_rate</th>\n",
       "      <th>default_rate</th>\n",
       "      <th>actual_default_rate</th>\n",
       "    </tr>\n",
       "  </thead>\n",
       "  <tbody>\n",
       "    <tr>\n",
       "      <th>fico_score</th>\n",
       "      <td>11100.000000</td>\n",
       "      <td>8.431757e+04</td>\n",
       "      <td>-3.281917e+05</td>\n",
       "      <td>-164.562715</td>\n",
       "      <td>1.179751e+05</td>\n",
       "      <td>6.540867e+05</td>\n",
       "      <td>7.851304e+05</td>\n",
       "      <td>-261.372425</td>\n",
       "      <td>-254.002627</td>\n",
       "      <td>-53.643365</td>\n",
       "    </tr>\n",
       "    <tr>\n",
       "      <th>loan_total</th>\n",
       "      <td>84317.571429</td>\n",
       "      <td>1.420328e+08</td>\n",
       "      <td>-6.117364e+06</td>\n",
       "      <td>2841.802408</td>\n",
       "      <td>-9.263903e+06</td>\n",
       "      <td>-1.233279e+07</td>\n",
       "      <td>-9.045332e+06</td>\n",
       "      <td>3454.737681</td>\n",
       "      <td>-4734.508923</td>\n",
       "      <td>-999.891190</td>\n",
       "    </tr>\n",
       "    <tr>\n",
       "      <th>default_total</th>\n",
       "      <td>-328191.714286</td>\n",
       "      <td>-6.117364e+06</td>\n",
       "      <td>1.233952e+07</td>\n",
       "      <td>5018.669412</td>\n",
       "      <td>-2.542762e+06</td>\n",
       "      <td>-1.726291e+07</td>\n",
       "      <td>-2.094780e+07</td>\n",
       "      <td>7646.662485</td>\n",
       "      <td>9550.122450</td>\n",
       "      <td>2016.911035</td>\n",
       "    </tr>\n",
       "    <tr>\n",
       "      <th>dti</th>\n",
       "      <td>-164.562715</td>\n",
       "      <td>2.841802e+03</td>\n",
       "      <td>5.018669e+03</td>\n",
       "      <td>2.858369</td>\n",
       "      <td>-2.164641e+03</td>\n",
       "      <td>-1.040763e+04</td>\n",
       "      <td>-1.219916e+04</td>\n",
       "      <td>4.167275</td>\n",
       "      <td>3.884179</td>\n",
       "      <td>0.820308</td>\n",
       "    </tr>\n",
       "    <tr>\n",
       "      <th>avg_loan_amnt</th>\n",
       "      <td>117975.085123</td>\n",
       "      <td>-9.263903e+06</td>\n",
       "      <td>-2.542762e+06</td>\n",
       "      <td>-2164.640693</td>\n",
       "      <td>2.668599e+06</td>\n",
       "      <td>9.564547e+06</td>\n",
       "      <td>1.092982e+07</td>\n",
       "      <td>-3359.878600</td>\n",
       "      <td>-1967.960087</td>\n",
       "      <td>-415.617751</td>\n",
       "    </tr>\n",
       "    <tr>\n",
       "      <th>median_annual_inc</th>\n",
       "      <td>654086.714286</td>\n",
       "      <td>-1.233279e+07</td>\n",
       "      <td>-1.726291e+07</td>\n",
       "      <td>-10407.631551</td>\n",
       "      <td>9.564547e+06</td>\n",
       "      <td>4.687613e+07</td>\n",
       "      <td>5.457827e+07</td>\n",
       "      <td>-16564.670539</td>\n",
       "      <td>-13360.560742</td>\n",
       "      <td>-2821.645746</td>\n",
       "    </tr>\n",
       "    <tr>\n",
       "      <th>avg_annual_inc</th>\n",
       "      <td>785130.353840</td>\n",
       "      <td>-9.045332e+06</td>\n",
       "      <td>-2.094780e+07</td>\n",
       "      <td>-12199.161949</td>\n",
       "      <td>1.092982e+07</td>\n",
       "      <td>5.457827e+07</td>\n",
       "      <td>6.461706e+07</td>\n",
       "      <td>-19471.216732</td>\n",
       "      <td>-16212.465719</td>\n",
       "      <td>-3423.945732</td>\n",
       "    </tr>\n",
       "    <tr>\n",
       "      <th>int_rate</th>\n",
       "      <td>-261.372425</td>\n",
       "      <td>3.454738e+03</td>\n",
       "      <td>7.646662e+03</td>\n",
       "      <td>4.167275</td>\n",
       "      <td>-3.359879e+03</td>\n",
       "      <td>-1.656467e+04</td>\n",
       "      <td>-1.947122e+04</td>\n",
       "      <td>6.554256</td>\n",
       "      <td>5.918103</td>\n",
       "      <td>1.249857</td>\n",
       "    </tr>\n",
       "    <tr>\n",
       "      <th>default_rate</th>\n",
       "      <td>-254.002627</td>\n",
       "      <td>-4.734509e+03</td>\n",
       "      <td>9.550122e+03</td>\n",
       "      <td>3.884179</td>\n",
       "      <td>-1.967960e+03</td>\n",
       "      <td>-1.336056e+04</td>\n",
       "      <td>-1.621247e+04</td>\n",
       "      <td>5.918103</td>\n",
       "      <td>7.391278</td>\n",
       "      <td>1.560980</td>\n",
       "    </tr>\n",
       "    <tr>\n",
       "      <th>actual_default_rate</th>\n",
       "      <td>-53.643365</td>\n",
       "      <td>-9.998912e+02</td>\n",
       "      <td>2.016911e+03</td>\n",
       "      <td>0.820308</td>\n",
       "      <td>-4.156178e+02</td>\n",
       "      <td>-2.821646e+03</td>\n",
       "      <td>-3.423946e+03</td>\n",
       "      <td>1.249857</td>\n",
       "      <td>1.560980</td>\n",
       "      <td>0.329667</td>\n",
       "    </tr>\n",
       "  </tbody>\n",
       "</table>\n",
       "</div>"
      ],
      "text/plain": [
       "                        fico_score    loan_total  default_total           dti  \\\n",
       "fico_score            11100.000000  8.431757e+04  -3.281917e+05   -164.562715   \n",
       "loan_total            84317.571429  1.420328e+08  -6.117364e+06   2841.802408   \n",
       "default_total       -328191.714286 -6.117364e+06   1.233952e+07   5018.669412   \n",
       "dti                    -164.562715  2.841802e+03   5.018669e+03      2.858369   \n",
       "avg_loan_amnt        117975.085123 -9.263903e+06  -2.542762e+06  -2164.640693   \n",
       "median_annual_inc    654086.714286 -1.233279e+07  -1.726291e+07 -10407.631551   \n",
       "avg_annual_inc       785130.353840 -9.045332e+06  -2.094780e+07 -12199.161949   \n",
       "int_rate               -261.372425  3.454738e+03   7.646662e+03      4.167275   \n",
       "default_rate           -254.002627 -4.734509e+03   9.550122e+03      3.884179   \n",
       "actual_default_rate     -53.643365 -9.998912e+02   2.016911e+03      0.820308   \n",
       "\n",
       "                     avg_loan_amnt  median_annual_inc  avg_annual_inc  \\\n",
       "fico_score            1.179751e+05       6.540867e+05    7.851304e+05   \n",
       "loan_total           -9.263903e+06      -1.233279e+07   -9.045332e+06   \n",
       "default_total        -2.542762e+06      -1.726291e+07   -2.094780e+07   \n",
       "dti                  -2.164641e+03      -1.040763e+04   -1.219916e+04   \n",
       "avg_loan_amnt         2.668599e+06       9.564547e+06    1.092982e+07   \n",
       "median_annual_inc     9.564547e+06       4.687613e+07    5.457827e+07   \n",
       "avg_annual_inc        1.092982e+07       5.457827e+07    6.461706e+07   \n",
       "int_rate             -3.359879e+03      -1.656467e+04   -1.947122e+04   \n",
       "default_rate         -1.967960e+03      -1.336056e+04   -1.621247e+04   \n",
       "actual_default_rate  -4.156178e+02      -2.821646e+03   -3.423946e+03   \n",
       "\n",
       "                         int_rate  default_rate  actual_default_rate  \n",
       "fico_score            -261.372425   -254.002627           -53.643365  \n",
       "loan_total            3454.737681  -4734.508923          -999.891190  \n",
       "default_total         7646.662485   9550.122450          2016.911035  \n",
       "dti                      4.167275      3.884179             0.820308  \n",
       "avg_loan_amnt        -3359.878600  -1967.960087          -415.617751  \n",
       "median_annual_inc   -16564.670539 -13360.560742         -2821.645746  \n",
       "avg_annual_inc      -19471.216732 -16212.465719         -3423.945732  \n",
       "int_rate                 6.554256      5.918103             1.249857  \n",
       "default_rate             5.918103      7.391278             1.560980  \n",
       "actual_default_rate      1.249857      1.560980             0.329667  "
      ]
     },
     "execution_count": 6,
     "metadata": {},
     "output_type": "execute_result"
    }
   ],
   "source": [
    "loan_df.cov()"
   ]
  },
  {
   "cell_type": "code",
   "execution_count": 7,
   "metadata": {},
   "outputs": [
    {
     "data": {
      "text/html": [
       "<div>\n",
       "<style scoped>\n",
       "    .dataframe tbody tr th:only-of-type {\n",
       "        vertical-align: middle;\n",
       "    }\n",
       "\n",
       "    .dataframe tbody tr th {\n",
       "        vertical-align: top;\n",
       "    }\n",
       "\n",
       "    .dataframe thead th {\n",
       "        text-align: right;\n",
       "    }\n",
       "</style>\n",
       "<table border=\"1\" class=\"dataframe\">\n",
       "  <thead>\n",
       "    <tr style=\"text-align: right;\">\n",
       "      <th></th>\n",
       "      <th>fico_score</th>\n",
       "      <th>loan_total</th>\n",
       "      <th>default_total</th>\n",
       "      <th>dti</th>\n",
       "      <th>avg_loan_amnt</th>\n",
       "      <th>median_annual_inc</th>\n",
       "      <th>avg_annual_inc</th>\n",
       "      <th>int_rate</th>\n",
       "      <th>default_rate</th>\n",
       "      <th>actual_default_rate</th>\n",
       "    </tr>\n",
       "  </thead>\n",
       "  <tbody>\n",
       "    <tr>\n",
       "      <th>fico_score</th>\n",
       "      <td>1.000000</td>\n",
       "      <td>0.067153</td>\n",
       "      <td>-0.886782</td>\n",
       "      <td>-0.923870</td>\n",
       "      <td>0.685468</td>\n",
       "      <td>0.906772</td>\n",
       "      <td>0.927058</td>\n",
       "      <td>-0.969029</td>\n",
       "      <td>-0.886782</td>\n",
       "      <td>-0.886782</td>\n",
       "    </tr>\n",
       "    <tr>\n",
       "      <th>loan_total</th>\n",
       "      <td>0.067153</td>\n",
       "      <td>1.000000</td>\n",
       "      <td>-0.146124</td>\n",
       "      <td>0.141039</td>\n",
       "      <td>-0.475837</td>\n",
       "      <td>-0.151144</td>\n",
       "      <td>-0.094418</td>\n",
       "      <td>0.113229</td>\n",
       "      <td>-0.146124</td>\n",
       "      <td>-0.146124</td>\n",
       "    </tr>\n",
       "    <tr>\n",
       "      <th>default_total</th>\n",
       "      <td>-0.886782</td>\n",
       "      <td>-0.146124</td>\n",
       "      <td>1.000000</td>\n",
       "      <td>0.845046</td>\n",
       "      <td>-0.443113</td>\n",
       "      <td>-0.717776</td>\n",
       "      <td>-0.741849</td>\n",
       "      <td>0.850278</td>\n",
       "      <td>1.000000</td>\n",
       "      <td>1.000000</td>\n",
       "    </tr>\n",
       "    <tr>\n",
       "      <th>dti</th>\n",
       "      <td>-0.923870</td>\n",
       "      <td>0.141039</td>\n",
       "      <td>0.845046</td>\n",
       "      <td>1.000000</td>\n",
       "      <td>-0.783764</td>\n",
       "      <td>-0.899118</td>\n",
       "      <td>-0.897630</td>\n",
       "      <td>0.962789</td>\n",
       "      <td>0.845046</td>\n",
       "      <td>0.845046</td>\n",
       "    </tr>\n",
       "    <tr>\n",
       "      <th>avg_loan_amnt</th>\n",
       "      <td>0.685468</td>\n",
       "      <td>-0.475837</td>\n",
       "      <td>-0.443113</td>\n",
       "      <td>-0.783764</td>\n",
       "      <td>1.000000</td>\n",
       "      <td>0.855159</td>\n",
       "      <td>0.832335</td>\n",
       "      <td>-0.803379</td>\n",
       "      <td>-0.443113</td>\n",
       "      <td>-0.443113</td>\n",
       "    </tr>\n",
       "    <tr>\n",
       "      <th>median_annual_inc</th>\n",
       "      <td>0.906772</td>\n",
       "      <td>-0.151144</td>\n",
       "      <td>-0.717776</td>\n",
       "      <td>-0.899118</td>\n",
       "      <td>0.855159</td>\n",
       "      <td>1.000000</td>\n",
       "      <td>0.991677</td>\n",
       "      <td>-0.945029</td>\n",
       "      <td>-0.717776</td>\n",
       "      <td>-0.717776</td>\n",
       "    </tr>\n",
       "    <tr>\n",
       "      <th>avg_annual_inc</th>\n",
       "      <td>0.927058</td>\n",
       "      <td>-0.094418</td>\n",
       "      <td>-0.741849</td>\n",
       "      <td>-0.897630</td>\n",
       "      <td>0.832335</td>\n",
       "      <td>0.991677</td>\n",
       "      <td>1.000000</td>\n",
       "      <td>-0.946145</td>\n",
       "      <td>-0.741849</td>\n",
       "      <td>-0.741849</td>\n",
       "    </tr>\n",
       "    <tr>\n",
       "      <th>int_rate</th>\n",
       "      <td>-0.969029</td>\n",
       "      <td>0.113229</td>\n",
       "      <td>0.850278</td>\n",
       "      <td>0.962789</td>\n",
       "      <td>-0.803379</td>\n",
       "      <td>-0.945029</td>\n",
       "      <td>-0.946145</td>\n",
       "      <td>1.000000</td>\n",
       "      <td>0.850278</td>\n",
       "      <td>0.850278</td>\n",
       "    </tr>\n",
       "    <tr>\n",
       "      <th>default_rate</th>\n",
       "      <td>-0.886782</td>\n",
       "      <td>-0.146124</td>\n",
       "      <td>1.000000</td>\n",
       "      <td>0.845046</td>\n",
       "      <td>-0.443113</td>\n",
       "      <td>-0.717776</td>\n",
       "      <td>-0.741849</td>\n",
       "      <td>0.850278</td>\n",
       "      <td>1.000000</td>\n",
       "      <td>1.000000</td>\n",
       "    </tr>\n",
       "    <tr>\n",
       "      <th>actual_default_rate</th>\n",
       "      <td>-0.886782</td>\n",
       "      <td>-0.146124</td>\n",
       "      <td>1.000000</td>\n",
       "      <td>0.845046</td>\n",
       "      <td>-0.443113</td>\n",
       "      <td>-0.717776</td>\n",
       "      <td>-0.741849</td>\n",
       "      <td>0.850278</td>\n",
       "      <td>1.000000</td>\n",
       "      <td>1.000000</td>\n",
       "    </tr>\n",
       "  </tbody>\n",
       "</table>\n",
       "</div>"
      ],
      "text/plain": [
       "                     fico_score  loan_total  default_total       dti  \\\n",
       "fico_score             1.000000    0.067153      -0.886782 -0.923870   \n",
       "loan_total             0.067153    1.000000      -0.146124  0.141039   \n",
       "default_total         -0.886782   -0.146124       1.000000  0.845046   \n",
       "dti                   -0.923870    0.141039       0.845046  1.000000   \n",
       "avg_loan_amnt          0.685468   -0.475837      -0.443113 -0.783764   \n",
       "median_annual_inc      0.906772   -0.151144      -0.717776 -0.899118   \n",
       "avg_annual_inc         0.927058   -0.094418      -0.741849 -0.897630   \n",
       "int_rate              -0.969029    0.113229       0.850278  0.962789   \n",
       "default_rate          -0.886782   -0.146124       1.000000  0.845046   \n",
       "actual_default_rate   -0.886782   -0.146124       1.000000  0.845046   \n",
       "\n",
       "                     avg_loan_amnt  median_annual_inc  avg_annual_inc  \\\n",
       "fico_score                0.685468           0.906772        0.927058   \n",
       "loan_total               -0.475837          -0.151144       -0.094418   \n",
       "default_total            -0.443113          -0.717776       -0.741849   \n",
       "dti                      -0.783764          -0.899118       -0.897630   \n",
       "avg_loan_amnt             1.000000           0.855159        0.832335   \n",
       "median_annual_inc         0.855159           1.000000        0.991677   \n",
       "avg_annual_inc            0.832335           0.991677        1.000000   \n",
       "int_rate                 -0.803379          -0.945029       -0.946145   \n",
       "default_rate             -0.443113          -0.717776       -0.741849   \n",
       "actual_default_rate      -0.443113          -0.717776       -0.741849   \n",
       "\n",
       "                     int_rate  default_rate  actual_default_rate  \n",
       "fico_score          -0.969029     -0.886782            -0.886782  \n",
       "loan_total           0.113229     -0.146124            -0.146124  \n",
       "default_total        0.850278      1.000000             1.000000  \n",
       "dti                  0.962789      0.845046             0.845046  \n",
       "avg_loan_amnt       -0.803379     -0.443113            -0.443113  \n",
       "median_annual_inc   -0.945029     -0.717776            -0.717776  \n",
       "avg_annual_inc      -0.946145     -0.741849            -0.741849  \n",
       "int_rate             1.000000      0.850278             0.850278  \n",
       "default_rate         0.850278      1.000000             1.000000  \n",
       "actual_default_rate  0.850278      1.000000             1.000000  "
      ]
     },
     "execution_count": 7,
     "metadata": {},
     "output_type": "execute_result"
    }
   ],
   "source": [
    "loan_df.corr()"
   ]
  },
  {
   "cell_type": "code",
   "execution_count": 8,
   "metadata": {},
   "outputs": [
    {
     "data": {
      "text/html": [
       "<div>\n",
       "<style scoped>\n",
       "    .dataframe tbody tr th:only-of-type {\n",
       "        vertical-align: middle;\n",
       "    }\n",
       "\n",
       "    .dataframe tbody tr th {\n",
       "        vertical-align: top;\n",
       "    }\n",
       "\n",
       "    .dataframe thead th {\n",
       "        text-align: right;\n",
       "    }\n",
       "</style>\n",
       "<table border=\"1\" class=\"dataframe\">\n",
       "  <thead>\n",
       "    <tr style=\"text-align: right;\">\n",
       "      <th></th>\n",
       "      <th>fico_score</th>\n",
       "      <th>loan_total</th>\n",
       "      <th>default_total</th>\n",
       "      <th>dti</th>\n",
       "      <th>avg_loan_amnt</th>\n",
       "      <th>median_annual_inc</th>\n",
       "      <th>avg_annual_inc</th>\n",
       "      <th>int_rate</th>\n",
       "      <th>default_rate</th>\n",
       "      <th>actual_default_rate</th>\n",
       "    </tr>\n",
       "  </thead>\n",
       "  <tbody>\n",
       "    <tr>\n",
       "      <th>fico_score</th>\n",
       "      <td>1.000000</td>\n",
       "      <td>0.043243</td>\n",
       "      <td>-0.939511</td>\n",
       "      <td>-0.936422</td>\n",
       "      <td>0.661261</td>\n",
       "      <td>0.956772</td>\n",
       "      <td>0.966281</td>\n",
       "      <td>-0.997169</td>\n",
       "      <td>-0.939511</td>\n",
       "      <td>-0.939511</td>\n",
       "    </tr>\n",
       "    <tr>\n",
       "      <th>loan_total</th>\n",
       "      <td>0.043243</td>\n",
       "      <td>1.000000</td>\n",
       "      <td>0.077992</td>\n",
       "      <td>0.029344</td>\n",
       "      <td>-0.344916</td>\n",
       "      <td>0.035934</td>\n",
       "      <td>0.048649</td>\n",
       "      <td>-0.035006</td>\n",
       "      <td>0.077992</td>\n",
       "      <td>0.077992</td>\n",
       "    </tr>\n",
       "    <tr>\n",
       "      <th>default_total</th>\n",
       "      <td>-0.939511</td>\n",
       "      <td>0.077992</td>\n",
       "      <td>1.000000</td>\n",
       "      <td>0.967310</td>\n",
       "      <td>-0.601544</td>\n",
       "      <td>-0.889429</td>\n",
       "      <td>-0.899871</td>\n",
       "      <td>0.950322</td>\n",
       "      <td>1.000000</td>\n",
       "      <td>1.000000</td>\n",
       "    </tr>\n",
       "    <tr>\n",
       "      <th>dti</th>\n",
       "      <td>-0.936422</td>\n",
       "      <td>0.029344</td>\n",
       "      <td>0.967310</td>\n",
       "      <td>1.000000</td>\n",
       "      <td>-0.576577</td>\n",
       "      <td>-0.877666</td>\n",
       "      <td>-0.890862</td>\n",
       "      <td>0.937709</td>\n",
       "      <td>0.967310</td>\n",
       "      <td>0.967310</td>\n",
       "    </tr>\n",
       "    <tr>\n",
       "      <th>avg_loan_amnt</th>\n",
       "      <td>0.661261</td>\n",
       "      <td>-0.344916</td>\n",
       "      <td>-0.601544</td>\n",
       "      <td>-0.576577</td>\n",
       "      <td>1.000000</td>\n",
       "      <td>0.750476</td>\n",
       "      <td>0.711969</td>\n",
       "      <td>-0.656371</td>\n",
       "      <td>-0.601544</td>\n",
       "      <td>-0.601544</td>\n",
       "    </tr>\n",
       "    <tr>\n",
       "      <th>median_annual_inc</th>\n",
       "      <td>0.956772</td>\n",
       "      <td>0.035934</td>\n",
       "      <td>-0.889429</td>\n",
       "      <td>-0.877666</td>\n",
       "      <td>0.750476</td>\n",
       "      <td>1.000000</td>\n",
       "      <td>0.979263</td>\n",
       "      <td>-0.955868</td>\n",
       "      <td>-0.889429</td>\n",
       "      <td>-0.889429</td>\n",
       "    </tr>\n",
       "    <tr>\n",
       "      <th>avg_annual_inc</th>\n",
       "      <td>0.966281</td>\n",
       "      <td>0.048649</td>\n",
       "      <td>-0.899871</td>\n",
       "      <td>-0.890862</td>\n",
       "      <td>0.711969</td>\n",
       "      <td>0.979263</td>\n",
       "      <td>1.000000</td>\n",
       "      <td>-0.966795</td>\n",
       "      <td>-0.899871</td>\n",
       "      <td>-0.899871</td>\n",
       "    </tr>\n",
       "    <tr>\n",
       "      <th>int_rate</th>\n",
       "      <td>-0.997169</td>\n",
       "      <td>-0.035006</td>\n",
       "      <td>0.950322</td>\n",
       "      <td>0.937709</td>\n",
       "      <td>-0.656371</td>\n",
       "      <td>-0.955868</td>\n",
       "      <td>-0.966795</td>\n",
       "      <td>1.000000</td>\n",
       "      <td>0.950322</td>\n",
       "      <td>0.950322</td>\n",
       "    </tr>\n",
       "    <tr>\n",
       "      <th>default_rate</th>\n",
       "      <td>-0.939511</td>\n",
       "      <td>0.077992</td>\n",
       "      <td>1.000000</td>\n",
       "      <td>0.967310</td>\n",
       "      <td>-0.601544</td>\n",
       "      <td>-0.889429</td>\n",
       "      <td>-0.899871</td>\n",
       "      <td>0.950322</td>\n",
       "      <td>1.000000</td>\n",
       "      <td>1.000000</td>\n",
       "    </tr>\n",
       "    <tr>\n",
       "      <th>actual_default_rate</th>\n",
       "      <td>-0.939511</td>\n",
       "      <td>0.077992</td>\n",
       "      <td>1.000000</td>\n",
       "      <td>0.967310</td>\n",
       "      <td>-0.601544</td>\n",
       "      <td>-0.889429</td>\n",
       "      <td>-0.899871</td>\n",
       "      <td>0.950322</td>\n",
       "      <td>1.000000</td>\n",
       "      <td>1.000000</td>\n",
       "    </tr>\n",
       "  </tbody>\n",
       "</table>\n",
       "</div>"
      ],
      "text/plain": [
       "                     fico_score  loan_total  default_total       dti  \\\n",
       "fico_score             1.000000    0.043243      -0.939511 -0.936422   \n",
       "loan_total             0.043243    1.000000       0.077992  0.029344   \n",
       "default_total         -0.939511    0.077992       1.000000  0.967310   \n",
       "dti                   -0.936422    0.029344       0.967310  1.000000   \n",
       "avg_loan_amnt          0.661261   -0.344916      -0.601544 -0.576577   \n",
       "median_annual_inc      0.956772    0.035934      -0.889429 -0.877666   \n",
       "avg_annual_inc         0.966281    0.048649      -0.899871 -0.890862   \n",
       "int_rate              -0.997169   -0.035006       0.950322  0.937709   \n",
       "default_rate          -0.939511    0.077992       1.000000  0.967310   \n",
       "actual_default_rate   -0.939511    0.077992       1.000000  0.967310   \n",
       "\n",
       "                     avg_loan_amnt  median_annual_inc  avg_annual_inc  \\\n",
       "fico_score                0.661261           0.956772        0.966281   \n",
       "loan_total               -0.344916           0.035934        0.048649   \n",
       "default_total            -0.601544          -0.889429       -0.899871   \n",
       "dti                      -0.576577          -0.877666       -0.890862   \n",
       "avg_loan_amnt             1.000000           0.750476        0.711969   \n",
       "median_annual_inc         0.750476           1.000000        0.979263   \n",
       "avg_annual_inc            0.711969           0.979263        1.000000   \n",
       "int_rate                 -0.656371          -0.955868       -0.966795   \n",
       "default_rate             -0.601544          -0.889429       -0.899871   \n",
       "actual_default_rate      -0.601544          -0.889429       -0.899871   \n",
       "\n",
       "                     int_rate  default_rate  actual_default_rate  \n",
       "fico_score          -0.997169     -0.939511            -0.939511  \n",
       "loan_total          -0.035006      0.077992             0.077992  \n",
       "default_total        0.950322      1.000000             1.000000  \n",
       "dti                  0.937709      0.967310             0.967310  \n",
       "avg_loan_amnt       -0.656371     -0.601544            -0.601544  \n",
       "median_annual_inc   -0.955868     -0.889429            -0.889429  \n",
       "avg_annual_inc      -0.966795     -0.899871            -0.899871  \n",
       "int_rate             1.000000      0.950322             0.950322  \n",
       "default_rate         0.950322      1.000000             1.000000  \n",
       "actual_default_rate  0.950322      1.000000             1.000000  "
      ]
     },
     "execution_count": 8,
     "metadata": {},
     "output_type": "execute_result"
    }
   ],
   "source": [
    "loan_df.corr(method='spearman')"
   ]
  },
  {
   "cell_type": "code",
   "execution_count": 9,
   "metadata": {},
   "outputs": [
    {
     "data": {
      "text/plain": [
       "<matplotlib.axes._subplots.AxesSubplot at 0x2167864ee48>"
      ]
     },
     "execution_count": 9,
     "metadata": {},
     "output_type": "execute_result"
    },
    {
     "data": {
      "image/png": "[encoded data removed]",
      "text/plain": [
       "<Figure size 432x288 with 1 Axes>"
      ]
     },
     "metadata": {
      "needs_background": "light"
     },
     "output_type": "display_data"
    }
   ],
   "source": [
    "sns.distplot(loan_df['median_annual_inc'], hist=True)"
   ]
  },
  {
   "cell_type": "code",
   "execution_count": 10,
   "metadata": {},
   "outputs": [
    {
     "data": {
      "text/html": [
       "<div>\n",
       "<style scoped>\n",
       "    .dataframe tbody tr th:only-of-type {\n",
       "        vertical-align: middle;\n",
       "    }\n",
       "\n",
       "    .dataframe tbody tr th {\n",
       "        vertical-align: top;\n",
       "    }\n",
       "\n",
       "    .dataframe thead th {\n",
       "        text-align: right;\n",
       "    }\n",
       "</style>\n",
       "<table border=\"1\" class=\"dataframe\">\n",
       "  <thead>\n",
       "    <tr style=\"text-align: right;\">\n",
       "      <th></th>\n",
       "      <th>fico_score</th>\n",
       "      <th>median_annual_inc</th>\n",
       "    </tr>\n",
       "  </thead>\n",
       "  <tbody>\n",
       "    <tr>\n",
       "      <th>fico_score</th>\n",
       "      <td>1.000000</td>\n",
       "      <td>0.956772</td>\n",
       "    </tr>\n",
       "    <tr>\n",
       "      <th>median_annual_inc</th>\n",
       "      <td>0.956772</td>\n",
       "      <td>1.000000</td>\n",
       "    </tr>\n",
       "  </tbody>\n",
       "</table>\n",
       "</div>"
      ],
      "text/plain": [
       "                   fico_score  median_annual_inc\n",
       "fico_score           1.000000           0.956772\n",
       "median_annual_inc    0.956772           1.000000"
      ]
     },
     "execution_count": 10,
     "metadata": {},
     "output_type": "execute_result"
    }
   ],
   "source": [
    "loan_df[['fico_score', 'median_annual_inc']].corr('spearman')"
   ]
  },
  {
   "cell_type": "code",
   "execution_count": 11,
   "metadata": {},
   "outputs": [
    {
     "data": {
      "text/plain": [
       "<matplotlib.axes._subplots.AxesSubplot at 0x21678d96cf8>"
      ]
     },
     "execution_count": 11,
     "metadata": {},
     "output_type": "execute_result"
    },
    {
     "data": {
      "image/png": "[encoded data removed]",
      "text/plain": [
       "<Figure size 432x288 with 1 Axes>"
      ]
     },
     "metadata": {
      "needs_background": "light"
     },
     "output_type": "display_data"
    }
   ],
   "source": [
    "sns.regplot(x='fico_score', y='median_annual_inc', data=loan_df)"
   ]
  },
  {
   "cell_type": "code",
   "execution_count": 12,
   "metadata": {},
   "outputs": [
    {
     "data": {
      "text/html": [
       "<div>\n",
       "<style scoped>\n",
       "    .dataframe tbody tr th:only-of-type {\n",
       "        vertical-align: middle;\n",
       "    }\n",
       "\n",
       "    .dataframe tbody tr th {\n",
       "        vertical-align: top;\n",
       "    }\n",
       "\n",
       "    .dataframe thead th {\n",
       "        text-align: right;\n",
       "    }\n",
       "</style>\n",
       "<table border=\"1\" class=\"dataframe\">\n",
       "  <thead>\n",
       "    <tr style=\"text-align: right;\">\n",
       "      <th></th>\n",
       "      <th>fico_score</th>\n",
       "      <th>avg_annual_inc</th>\n",
       "    </tr>\n",
       "  </thead>\n",
       "  <tbody>\n",
       "    <tr>\n",
       "      <th>fico_score</th>\n",
       "      <td>1.000000</td>\n",
       "      <td>0.966281</td>\n",
       "    </tr>\n",
       "    <tr>\n",
       "      <th>avg_annual_inc</th>\n",
       "      <td>0.966281</td>\n",
       "      <td>1.000000</td>\n",
       "    </tr>\n",
       "  </tbody>\n",
       "</table>\n",
       "</div>"
      ],
      "text/plain": [
       "                fico_score  avg_annual_inc\n",
       "fico_score        1.000000        0.966281\n",
       "avg_annual_inc    0.966281        1.000000"
      ]
     },
     "execution_count": 12,
     "metadata": {},
     "output_type": "execute_result"
    }
   ],
   "source": [
    "loan_df[['fico_score', 'avg_annual_inc']].corr('spearman')"
   ]
  },
  {
   "cell_type": "code",
   "execution_count": 13,
   "metadata": {},
   "outputs": [
    {
     "data": {
      "text/plain": [
       "<matplotlib.axes._subplots.AxesSubplot at 0x21678e20860>"
      ]
     },
     "execution_count": 13,
     "metadata": {},
     "output_type": "execute_result"
    },
    {
     "data": {
      "image/png": "[encoded data removed]",
      "text/plain": [
       "<Figure size 432x288 with 1 Axes>"
      ]
     },
     "metadata": {
      "needs_background": "light"
     },
     "output_type": "display_data"
    }
   ],
   "source": [
    "sns.regplot(x='fico_score', y='avg_annual_inc', data=loan_df)"
   ]
  },
  {
   "cell_type": "code",
   "execution_count": 14,
   "metadata": {},
   "outputs": [
    {
     "data": {
      "text/html": [
       "<div>\n",
       "<style scoped>\n",
       "    .dataframe tbody tr th:only-of-type {\n",
       "        vertical-align: middle;\n",
       "    }\n",
       "\n",
       "    .dataframe tbody tr th {\n",
       "        vertical-align: top;\n",
       "    }\n",
       "\n",
       "    .dataframe thead th {\n",
       "        text-align: right;\n",
       "    }\n",
       "</style>\n",
       "<table border=\"1\" class=\"dataframe\">\n",
       "  <thead>\n",
       "    <tr style=\"text-align: right;\">\n",
       "      <th></th>\n",
       "      <th>fico_score</th>\n",
       "      <th>dti</th>\n",
       "    </tr>\n",
       "  </thead>\n",
       "  <tbody>\n",
       "    <tr>\n",
       "      <th>fico_score</th>\n",
       "      <td>1.000000</td>\n",
       "      <td>-0.936422</td>\n",
       "    </tr>\n",
       "    <tr>\n",
       "      <th>dti</th>\n",
       "      <td>-0.936422</td>\n",
       "      <td>1.000000</td>\n",
       "    </tr>\n",
       "  </tbody>\n",
       "</table>\n",
       "</div>"
      ],
      "text/plain": [
       "            fico_score       dti\n",
       "fico_score    1.000000 -0.936422\n",
       "dti          -0.936422  1.000000"
      ]
     },
     "execution_count": 14,
     "metadata": {},
     "output_type": "execute_result"
    }
   ],
   "source": [
    "loan_df[['fico_score', 'dti']].corr('spearman')"
   ]
  },
  {
   "cell_type": "code",
   "execution_count": 15,
   "metadata": {},
   "outputs": [
    {
     "data": {
      "text/plain": [
       "<matplotlib.axes._subplots.AxesSubplot at 0x21678e93b70>"
      ]
     },
     "execution_count": 15,
     "metadata": {},
     "output_type": "execute_result"
    },
    {
     "data": {
      "image/png": "[encoded data removed]",
      "text/plain": [
       "<Figure size 432x288 with 1 Axes>"
      ]
     },
     "metadata": {
      "needs_background": "light"
     },
     "output_type": "display_data"
    }
   ],
   "source": [
    "sns.regplot(x='fico_score', y='dti', data=loan_df)"
   ]
  },
  {
   "cell_type": "code",
   "execution_count": 16,
   "metadata": {},
   "outputs": [
    {
     "data": {
      "text/html": [
       "<div>\n",
       "<style scoped>\n",
       "    .dataframe tbody tr th:only-of-type {\n",
       "        vertical-align: middle;\n",
       "    }\n",
       "\n",
       "    .dataframe tbody tr th {\n",
       "        vertical-align: top;\n",
       "    }\n",
       "\n",
       "    .dataframe thead th {\n",
       "        text-align: right;\n",
       "    }\n",
       "</style>\n",
       "<table border=\"1\" class=\"dataframe\">\n",
       "  <thead>\n",
       "    <tr style=\"text-align: right;\">\n",
       "      <th></th>\n",
       "      <th>fico_score</th>\n",
       "      <th>int_rate</th>\n",
       "    </tr>\n",
       "  </thead>\n",
       "  <tbody>\n",
       "    <tr>\n",
       "      <th>fico_score</th>\n",
       "      <td>1.000000</td>\n",
       "      <td>-0.997169</td>\n",
       "    </tr>\n",
       "    <tr>\n",
       "      <th>int_rate</th>\n",
       "      <td>-0.997169</td>\n",
       "      <td>1.000000</td>\n",
       "    </tr>\n",
       "  </tbody>\n",
       "</table>\n",
       "</div>"
      ],
      "text/plain": [
       "            fico_score  int_rate\n",
       "fico_score    1.000000 -0.997169\n",
       "int_rate     -0.997169  1.000000"
      ]
     },
     "execution_count": 16,
     "metadata": {},
     "output_type": "execute_result"
    }
   ],
   "source": [
    "loan_df[['fico_score', 'int_rate']].corr('spearman')"
   ]
  },
  {
   "cell_type": "code",
   "execution_count": 17,
   "metadata": {},
   "outputs": [
    {
     "data": {
      "text/plain": [
       "<matplotlib.axes._subplots.AxesSubplot at 0x21678f03b38>"
      ]
     },
     "execution_count": 17,
     "metadata": {},
     "output_type": "execute_result"
    },
    {
     "data": {
      "image/png": "[encoded data removed]",
      "text/plain": [
       "<Figure size 432x288 with 1 Axes>"
      ]
     },
     "metadata": {
      "needs_background": "light"
     },
     "output_type": "display_data"
    }
   ],
   "source": [
    "sns.regplot(x='fico_score', y='int_rate', data=loan_df)"
   ]
  },
  {
   "cell_type": "code",
   "execution_count": 18,
   "metadata": {},
   "outputs": [
    {
     "data": {
      "text/plain": [
       "<matplotlib.axes._subplots.AxesSubplot at 0x21678f6c940>"
      ]
     },
     "execution_count": 18,
     "metadata": {},
     "output_type": "execute_result"
    },
    {
     "data": {
      "image/png": "[encoded data removed]",
      "text/plain": [
       "<Figure size 432x288 with 1 Axes>"
      ]
     },
     "metadata": {
      "needs_background": "light"
     },
     "output_type": "display_data"
    }
   ],
   "source": [
    "sns.distplot(loan_df['int_rate'], hist=True)"
   ]
  },
  {
   "cell_type": "code",
   "execution_count": 19,
   "metadata": {},
   "outputs": [
    {
     "data": {
      "text/plain": [
       "((array([-2.07334886, -1.68217954, -1.44830429, -1.27437681, -1.13225357,\n",
       "         -1.00993636, -0.90112151, -0.80205412, -0.71029762, -0.62416759,\n",
       "         -0.54243995, -0.46418751, -0.38868208, -0.31533241, -0.24364313,\n",
       "         -0.17318609, -0.10357945, -0.03447167,  0.03447167,  0.10357945,\n",
       "          0.17318609,  0.24364313,  0.31533241,  0.38868208,  0.46418751,\n",
       "          0.54243995,  0.62416759,  0.71029762,  0.80205412,  0.90112151,\n",
       "          1.00993636,  1.13225357,  1.27437681,  1.44830429,  1.68217954,\n",
       "          2.07334886]),\n",
       "  array([ 7.58556196,  7.96854839,  8.00050755,  8.40436779,  8.81612608,\n",
       "          9.17925418,  9.54207879,  9.94439109, 10.17342593, 10.54704384,\n",
       "         10.83639354, 11.07060021, 11.40585966, 11.84989813, 12.19602541,\n",
       "         12.64158738, 12.99737662, 13.36212073, 13.75097687, 13.84232878,\n",
       "         13.93910593, 13.99130432, 14.13094166, 14.38872081, 14.45885661,\n",
       "         14.56445333, 14.71287103, 14.79158065, 14.83095961, 14.93735761,\n",
       "         15.04821175, 15.27102165, 15.31245098, 15.35228452, 15.4402116 ,\n",
       "         15.44901129])),\n",
       " (2.5196349375983393, 12.520383785694445, 0.9516744621680466))"
      ]
     },
     "execution_count": 19,
     "metadata": {},
     "output_type": "execute_result"
    },
    {
     "data": {
      "image/png": "[encoded data removed]",
      "text/plain": [
       "<Figure size 432x288 with 1 Axes>"
      ]
     },
     "metadata": {
      "needs_background": "light"
     },
     "output_type": "display_data"
    }
   ],
   "source": [
    "stats.probplot(loan_df['int_rate'], dist='norm', plot=plt)"
   ]
  },
  {
   "cell_type": "code",
   "execution_count": 20,
   "metadata": {},
   "outputs": [
    {
     "data": {
      "text/html": [
       "<div>\n",
       "<style scoped>\n",
       "    .dataframe tbody tr th:only-of-type {\n",
       "        vertical-align: middle;\n",
       "    }\n",
       "\n",
       "    .dataframe tbody tr th {\n",
       "        vertical-align: top;\n",
       "    }\n",
       "\n",
       "    .dataframe thead th {\n",
       "        text-align: right;\n",
       "    }\n",
       "</style>\n",
       "<table border=\"1\" class=\"dataframe\">\n",
       "  <thead>\n",
       "    <tr style=\"text-align: right;\">\n",
       "      <th></th>\n",
       "      <th>fico_score</th>\n",
       "      <th>loan_total</th>\n",
       "    </tr>\n",
       "  </thead>\n",
       "  <tbody>\n",
       "    <tr>\n",
       "      <th>fico_score</th>\n",
       "      <td>1.000000</td>\n",
       "      <td>0.043243</td>\n",
       "    </tr>\n",
       "    <tr>\n",
       "      <th>loan_total</th>\n",
       "      <td>0.043243</td>\n",
       "      <td>1.000000</td>\n",
       "    </tr>\n",
       "  </tbody>\n",
       "</table>\n",
       "</div>"
      ],
      "text/plain": [
       "            fico_score  loan_total\n",
       "fico_score    1.000000    0.043243\n",
       "loan_total    0.043243    1.000000"
      ]
     },
     "execution_count": 20,
     "metadata": {},
     "output_type": "execute_result"
    }
   ],
   "source": [
    "loan_df[['fico_score', 'loan_total']].corr('spearman')"
   ]
  },
  {
   "cell_type": "code",
   "execution_count": 21,
   "metadata": {},
   "outputs": [
    {
     "data": {
      "text/plain": [
       "<matplotlib.axes._subplots.AxesSubplot at 0x2167903c518>"
      ]
     },
     "execution_count": 21,
     "metadata": {},
     "output_type": "execute_result"
    },
    {
     "data": {
      "image/png": "[encoded data removed]",
      "text/plain": [
       "<Figure size 432x288 with 1 Axes>"
      ]
     },
     "metadata": {
      "needs_background": "light"
     },
     "output_type": "display_data"
    }
   ],
   "source": [
    "sns.regplot(x='fico_score', y='loan_total', data=loan_df)"
   ]
  },
  {
   "cell_type": "code",
   "execution_count": 22,
   "metadata": {},
   "outputs": [
    {
     "data": {
      "text/html": [
       "<div>\n",
       "<style scoped>\n",
       "    .dataframe tbody tr th:only-of-type {\n",
       "        vertical-align: middle;\n",
       "    }\n",
       "\n",
       "    .dataframe tbody tr th {\n",
       "        vertical-align: top;\n",
       "    }\n",
       "\n",
       "    .dataframe thead th {\n",
       "        text-align: right;\n",
       "    }\n",
       "</style>\n",
       "<table border=\"1\" class=\"dataframe\">\n",
       "  <thead>\n",
       "    <tr style=\"text-align: right;\">\n",
       "      <th></th>\n",
       "      <th>fico_score</th>\n",
       "      <th>default_rate</th>\n",
       "    </tr>\n",
       "  </thead>\n",
       "  <tbody>\n",
       "    <tr>\n",
       "      <th>fico_score</th>\n",
       "      <td>1.000000</td>\n",
       "      <td>-0.886782</td>\n",
       "    </tr>\n",
       "    <tr>\n",
       "      <th>default_rate</th>\n",
       "      <td>-0.886782</td>\n",
       "      <td>1.000000</td>\n",
       "    </tr>\n",
       "  </tbody>\n",
       "</table>\n",
       "</div>"
      ],
      "text/plain": [
       "              fico_score  default_rate\n",
       "fico_score      1.000000     -0.886782\n",
       "default_rate   -0.886782      1.000000"
      ]
     },
     "execution_count": 22,
     "metadata": {},
     "output_type": "execute_result"
    }
   ],
   "source": [
    "loan_df[['fico_score', 'default_rate']].corr()"
   ]
  },
  {
   "cell_type": "code",
   "execution_count": 23,
   "metadata": {},
   "outputs": [
    {
     "data": {
      "text/html": [
       "<div>\n",
       "<style scoped>\n",
       "    .dataframe tbody tr th:only-of-type {\n",
       "        vertical-align: middle;\n",
       "    }\n",
       "\n",
       "    .dataframe tbody tr th {\n",
       "        vertical-align: top;\n",
       "    }\n",
       "\n",
       "    .dataframe thead th {\n",
       "        text-align: right;\n",
       "    }\n",
       "</style>\n",
       "<table border=\"1\" class=\"dataframe\">\n",
       "  <thead>\n",
       "    <tr style=\"text-align: right;\">\n",
       "      <th></th>\n",
       "      <th>fico_score</th>\n",
       "      <th>default_rate</th>\n",
       "    </tr>\n",
       "  </thead>\n",
       "  <tbody>\n",
       "    <tr>\n",
       "      <th>fico_score</th>\n",
       "      <td>1.000000</td>\n",
       "      <td>-0.939511</td>\n",
       "    </tr>\n",
       "    <tr>\n",
       "      <th>default_rate</th>\n",
       "      <td>-0.939511</td>\n",
       "      <td>1.000000</td>\n",
       "    </tr>\n",
       "  </tbody>\n",
       "</table>\n",
       "</div>"
      ],
      "text/plain": [
       "              fico_score  default_rate\n",
       "fico_score      1.000000     -0.939511\n",
       "default_rate   -0.939511      1.000000"
      ]
     },
     "execution_count": 23,
     "metadata": {},
     "output_type": "execute_result"
    }
   ],
   "source": [
    "loan_df[['fico_score', 'default_rate']].corr('spearman')"
   ]
  },
  {
   "cell_type": "code",
   "execution_count": 24,
   "metadata": {},
   "outputs": [
    {
     "data": {
      "text/plain": [
       "<matplotlib.axes._subplots.AxesSubplot at 0x2167906d8d0>"
      ]
     },
     "execution_count": 24,
     "metadata": {},
     "output_type": "execute_result"
    },
    {
     "data": {
      "image/png": "[encoded data removed]",
      "text/plain": [
       "<Figure size 432x288 with 1 Axes>"
      ]
     },
     "metadata": {
      "needs_background": "light"
     },
     "output_type": "display_data"
    }
   ],
   "source": [
    "sns.regplot(x='fico_score', y='default_rate', data=loan_df)"
   ]
  },
  {
   "cell_type": "code",
   "execution_count": 25,
   "metadata": {},
   "outputs": [
    {
     "data": {
      "text/html": [
       "<div>\n",
       "<style scoped>\n",
       "    .dataframe tbody tr th:only-of-type {\n",
       "        vertical-align: middle;\n",
       "    }\n",
       "\n",
       "    .dataframe tbody tr th {\n",
       "        vertical-align: top;\n",
       "    }\n",
       "\n",
       "    .dataframe thead th {\n",
       "        text-align: right;\n",
       "    }\n",
       "</style>\n",
       "<table border=\"1\" class=\"dataframe\">\n",
       "  <thead>\n",
       "    <tr style=\"text-align: right;\">\n",
       "      <th></th>\n",
       "      <th>median_annual_inc</th>\n",
       "      <th>loan_total</th>\n",
       "    </tr>\n",
       "  </thead>\n",
       "  <tbody>\n",
       "    <tr>\n",
       "      <th>median_annual_inc</th>\n",
       "      <td>1.000000</td>\n",
       "      <td>0.035934</td>\n",
       "    </tr>\n",
       "    <tr>\n",
       "      <th>loan_total</th>\n",
       "      <td>0.035934</td>\n",
       "      <td>1.000000</td>\n",
       "    </tr>\n",
       "  </tbody>\n",
       "</table>\n",
       "</div>"
      ],
      "text/plain": [
       "                   median_annual_inc  loan_total\n",
       "median_annual_inc           1.000000    0.035934\n",
       "loan_total                  0.035934    1.000000"
      ]
     },
     "execution_count": 25,
     "metadata": {},
     "output_type": "execute_result"
    }
   ],
   "source": [
    "loan_df[['median_annual_inc', 'loan_total']].corr('spearman')"
   ]
  },
  {
   "cell_type": "code",
   "execution_count": 26,
   "metadata": {},
   "outputs": [
    {
     "data": {
      "text/plain": [
       "<matplotlib.axes._subplots.AxesSubplot at 0x2167903cc18>"
      ]
     },
     "execution_count": 26,
     "metadata": {},
     "output_type": "execute_result"
    },
    {
     "data": {
      "image/png": "[encoded data removed]",
      "text/plain": [
       "<Figure size 432x288 with 1 Axes>"
      ]
     },
     "metadata": {
      "needs_background": "light"
     },
     "output_type": "display_data"
    }
   ],
   "source": [
    "sns.regplot(x='median_annual_inc', y='loan_total', data=loan_df)"
   ]
  },
  {
   "cell_type": "code",
   "execution_count": 27,
   "metadata": {},
   "outputs": [
    {
     "data": {
      "text/html": [
       "<div>\n",
       "<style scoped>\n",
       "    .dataframe tbody tr th:only-of-type {\n",
       "        vertical-align: middle;\n",
       "    }\n",
       "\n",
       "    .dataframe tbody tr th {\n",
       "        vertical-align: top;\n",
       "    }\n",
       "\n",
       "    .dataframe thead th {\n",
       "        text-align: right;\n",
       "    }\n",
       "</style>\n",
       "<table border=\"1\" class=\"dataframe\">\n",
       "  <thead>\n",
       "    <tr style=\"text-align: right;\">\n",
       "      <th></th>\n",
       "      <th>dti</th>\n",
       "      <th>loan_total</th>\n",
       "    </tr>\n",
       "  </thead>\n",
       "  <tbody>\n",
       "    <tr>\n",
       "      <th>dti</th>\n",
       "      <td>1.000000</td>\n",
       "      <td>0.029344</td>\n",
       "    </tr>\n",
       "    <tr>\n",
       "      <th>loan_total</th>\n",
       "      <td>0.029344</td>\n",
       "      <td>1.000000</td>\n",
       "    </tr>\n",
       "  </tbody>\n",
       "</table>\n",
       "</div>"
      ],
      "text/plain": [
       "                 dti  loan_total\n",
       "dti         1.000000    0.029344\n",
       "loan_total  0.029344    1.000000"
      ]
     },
     "execution_count": 27,
     "metadata": {},
     "output_type": "execute_result"
    }
   ],
   "source": [
    "loan_df[['dti', 'loan_total']].corr('spearman')"
   ]
  },
  {
   "cell_type": "code",
   "execution_count": 28,
   "metadata": {},
   "outputs": [
    {
     "data": {
      "text/plain": [
       "<matplotlib.axes._subplots.AxesSubplot at 0x21679117a90>"
      ]
     },
     "execution_count": 28,
     "metadata": {},
     "output_type": "execute_result"
    },
    {
     "data": {
      "image/png": "[encoded data removed]",
      "text/plain": [
       "<Figure size 432x288 with 1 Axes>"
      ]
     },
     "metadata": {
      "needs_background": "light"
     },
     "output_type": "display_data"
    }
   ],
   "source": [
    "sns.regplot(x='dti', y='loan_total', data=loan_df)"
   ]
  },
  {
   "cell_type": "code",
   "execution_count": null,
   "metadata": {},
   "outputs": [],
   "source": []
  }
 ],
 "metadata": {
  "kernelspec": {
   "display_name": "Python 3",
   "language": "python",
   "name": "python3"
  },
  "language_info": {
   "codemirror_mode": {
    "name": "ipython",
    "version": 3
   },
   "file_extension": ".py",
   "mimetype": "text/x-python",
   "name": "python",
   "nbconvert_exporter": "python",
   "pygments_lexer": "ipython3",
   "version": "3.6.8"
  }
 },
 "nbformat": 4,
 "nbformat_minor": 2
}
