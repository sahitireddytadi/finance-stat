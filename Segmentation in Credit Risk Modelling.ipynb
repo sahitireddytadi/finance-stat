{
 "cells": [
  {
   "cell_type": "markdown",
   "metadata": {},
   "source": [
    "Data Segmentation is the process of taking the data and dividing it up and grouping similar data together based on the chosen parameters to use it more efficiently within marketing and operations.\n",
    "\n",
    "Market segmentation: “Dividing the target market or customers on the basis of some significant features which could help a company sell more products in less marketing expenses.”"
   ]
  },
  {
   "cell_type": "code",
   "execution_count": 1,
   "metadata": {},
   "outputs": [],
   "source": [
    "import warnings\n",
    "warnings.simplefilter(action=\"ignore\", category=FutureWarning)\n",
    "warnings.simplefilter(action=\"ignore\", category=Warning)\n",
    "\n",
    "import pandas as pd\n",
    "import numpy as np\n",
    "import seaborn as sns\n",
    "\n",
    "import scipy.stats as stats\n",
    "import matplotlib.pyplot as plt\n",
    "%matplotlib inline"
   ]
  },
  {
   "cell_type": "code",
   "execution_count": 2,
   "metadata": {},
   "outputs": [],
   "source": [
    "loan_df= pd.read_csv('loan_analysis.csv')"
   ]
  },
  {
   "cell_type": "code",
   "execution_count": 3,
   "metadata": {},
   "outputs": [
    {
     "data": {
      "text/plain": [
       "1048563"
      ]
     },
     "execution_count": 3,
     "metadata": {},
     "output_type": "execute_result"
    }
   ],
   "source": [
    "loan_df.shape[0]"
   ]
  },
  {
   "cell_type": "code",
   "execution_count": 4,
   "metadata": {},
   "outputs": [
    {
     "data": {
      "text/html": [
       "<div>\n",
       "<style scoped>\n",
       "    .dataframe tbody tr th:only-of-type {\n",
       "        vertical-align: middle;\n",
       "    }\n",
       "\n",
       "    .dataframe tbody tr th {\n",
       "        vertical-align: top;\n",
       "    }\n",
       "\n",
       "    .dataframe thead th {\n",
       "        text-align: right;\n",
       "    }\n",
       "</style>\n",
       "<table border=\"1\" class=\"dataframe\">\n",
       "  <thead>\n",
       "    <tr style=\"text-align: right;\">\n",
       "      <th></th>\n",
       "      <th>id</th>\n",
       "      <th>loan_amnt</th>\n",
       "      <th>int_rate</th>\n",
       "      <th>installment</th>\n",
       "      <th>grade</th>\n",
       "      <th>emp_title</th>\n",
       "      <th>home_ownership</th>\n",
       "      <th>annual_inc</th>\n",
       "      <th>loan_status</th>\n",
       "      <th>purpose</th>\n",
       "      <th>...</th>\n",
       "      <th>fico_range_high</th>\n",
       "      <th>inq_last_6mths</th>\n",
       "      <th>mths_since_last_delinq</th>\n",
       "      <th>revol_bal</th>\n",
       "      <th>out_prncp</th>\n",
       "      <th>last_fico_range_high</th>\n",
       "      <th>last_fico_range_low</th>\n",
       "      <th>application_type</th>\n",
       "      <th>annual_inc_joint</th>\n",
       "      <th>dti_joint</th>\n",
       "    </tr>\n",
       "  </thead>\n",
       "  <tbody>\n",
       "    <tr>\n",
       "      <th>0</th>\n",
       "      <td>68407277</td>\n",
       "      <td>3600</td>\n",
       "      <td>13.99</td>\n",
       "      <td>123.03</td>\n",
       "      <td>C</td>\n",
       "      <td>leadman</td>\n",
       "      <td>MORTGAGE</td>\n",
       "      <td>55000.0</td>\n",
       "      <td>Fully Paid</td>\n",
       "      <td>debt_consolidation</td>\n",
       "      <td>...</td>\n",
       "      <td>679</td>\n",
       "      <td>1</td>\n",
       "      <td>30.0</td>\n",
       "      <td>2765</td>\n",
       "      <td>0.00</td>\n",
       "      <td>564</td>\n",
       "      <td>560</td>\n",
       "      <td>Individual</td>\n",
       "      <td>NaN</td>\n",
       "      <td>NaN</td>\n",
       "    </tr>\n",
       "    <tr>\n",
       "      <th>1</th>\n",
       "      <td>68355089</td>\n",
       "      <td>24700</td>\n",
       "      <td>11.99</td>\n",
       "      <td>820.28</td>\n",
       "      <td>C</td>\n",
       "      <td>Engineer</td>\n",
       "      <td>MORTGAGE</td>\n",
       "      <td>65000.0</td>\n",
       "      <td>Fully Paid</td>\n",
       "      <td>small_business</td>\n",
       "      <td>...</td>\n",
       "      <td>719</td>\n",
       "      <td>4</td>\n",
       "      <td>6.0</td>\n",
       "      <td>21470</td>\n",
       "      <td>0.00</td>\n",
       "      <td>699</td>\n",
       "      <td>695</td>\n",
       "      <td>Individual</td>\n",
       "      <td>NaN</td>\n",
       "      <td>NaN</td>\n",
       "    </tr>\n",
       "    <tr>\n",
       "      <th>2</th>\n",
       "      <td>68341763</td>\n",
       "      <td>20000</td>\n",
       "      <td>10.78</td>\n",
       "      <td>432.66</td>\n",
       "      <td>B</td>\n",
       "      <td>truck driver</td>\n",
       "      <td>MORTGAGE</td>\n",
       "      <td>63000.0</td>\n",
       "      <td>Fully Paid</td>\n",
       "      <td>home_improvement</td>\n",
       "      <td>...</td>\n",
       "      <td>699</td>\n",
       "      <td>0</td>\n",
       "      <td>NaN</td>\n",
       "      <td>7869</td>\n",
       "      <td>0.00</td>\n",
       "      <td>704</td>\n",
       "      <td>700</td>\n",
       "      <td>Joint App</td>\n",
       "      <td>71000.0</td>\n",
       "      <td>13.85</td>\n",
       "    </tr>\n",
       "    <tr>\n",
       "      <th>3</th>\n",
       "      <td>66310712</td>\n",
       "      <td>35000</td>\n",
       "      <td>14.85</td>\n",
       "      <td>829.90</td>\n",
       "      <td>C</td>\n",
       "      <td>Information Systems Officer</td>\n",
       "      <td>MORTGAGE</td>\n",
       "      <td>110000.0</td>\n",
       "      <td>Current</td>\n",
       "      <td>debt_consolidation</td>\n",
       "      <td>...</td>\n",
       "      <td>789</td>\n",
       "      <td>0</td>\n",
       "      <td>NaN</td>\n",
       "      <td>7802</td>\n",
       "      <td>15897.65</td>\n",
       "      <td>679</td>\n",
       "      <td>675</td>\n",
       "      <td>Individual</td>\n",
       "      <td>NaN</td>\n",
       "      <td>NaN</td>\n",
       "    </tr>\n",
       "    <tr>\n",
       "      <th>4</th>\n",
       "      <td>68476807</td>\n",
       "      <td>10400</td>\n",
       "      <td>22.45</td>\n",
       "      <td>289.91</td>\n",
       "      <td>F</td>\n",
       "      <td>Contract Specialist</td>\n",
       "      <td>MORTGAGE</td>\n",
       "      <td>104433.0</td>\n",
       "      <td>Fully Paid</td>\n",
       "      <td>major_purchase</td>\n",
       "      <td>...</td>\n",
       "      <td>699</td>\n",
       "      <td>3</td>\n",
       "      <td>12.0</td>\n",
       "      <td>21929</td>\n",
       "      <td>0.00</td>\n",
       "      <td>704</td>\n",
       "      <td>700</td>\n",
       "      <td>Individual</td>\n",
       "      <td>NaN</td>\n",
       "      <td>NaN</td>\n",
       "    </tr>\n",
       "  </tbody>\n",
       "</table>\n",
       "<p>5 rows × 24 columns</p>\n",
       "</div>"
      ],
      "text/plain": [
       "         id  loan_amnt  int_rate  installment grade  \\\n",
       "0  68407277       3600     13.99       123.03     C   \n",
       "1  68355089      24700     11.99       820.28     C   \n",
       "2  68341763      20000     10.78       432.66     B   \n",
       "3  66310712      35000     14.85       829.90     C   \n",
       "4  68476807      10400     22.45       289.91     F   \n",
       "\n",
       "                     emp_title home_ownership  annual_inc loan_status  \\\n",
       "0                      leadman       MORTGAGE     55000.0  Fully Paid   \n",
       "1                     Engineer       MORTGAGE     65000.0  Fully Paid   \n",
       "2                 truck driver       MORTGAGE     63000.0  Fully Paid   \n",
       "3  Information Systems Officer       MORTGAGE    110000.0     Current   \n",
       "4          Contract Specialist       MORTGAGE    104433.0  Fully Paid   \n",
       "\n",
       "              purpose  ... fico_range_high  inq_last_6mths  \\\n",
       "0  debt_consolidation  ...             679               1   \n",
       "1      small_business  ...             719               4   \n",
       "2    home_improvement  ...             699               0   \n",
       "3  debt_consolidation  ...             789               0   \n",
       "4      major_purchase  ...             699               3   \n",
       "\n",
       "   mths_since_last_delinq  revol_bal  out_prncp  last_fico_range_high  \\\n",
       "0                    30.0       2765       0.00                   564   \n",
       "1                     6.0      21470       0.00                   699   \n",
       "2                     NaN       7869       0.00                   704   \n",
       "3                     NaN       7802   15897.65                   679   \n",
       "4                    12.0      21929       0.00                   704   \n",
       "\n",
       "   last_fico_range_low  application_type  annual_inc_joint  dti_joint  \n",
       "0                  560        Individual               NaN        NaN  \n",
       "1                  695        Individual               NaN        NaN  \n",
       "2                  700         Joint App           71000.0      13.85  \n",
       "3                  675        Individual               NaN        NaN  \n",
       "4                  700        Individual               NaN        NaN  \n",
       "\n",
       "[5 rows x 24 columns]"
      ]
     },
     "execution_count": 4,
     "metadata": {},
     "output_type": "execute_result"
    }
   ],
   "source": [
    "loan_df.head()"
   ]
  },
  {
   "cell_type": "code",
   "execution_count": 5,
   "metadata": {},
   "outputs": [
    {
     "data": {
      "text/plain": [
       "Fully Paid            482595\n",
       "Current               419550\n",
       "Charged Off           129187\n",
       "Late (31-120 days)     10879\n",
       "In Grace Period         4227\n",
       "Late (16-30 days)       2104\n",
       "Default                   21\n",
       "Name: loan_status, dtype: int64"
      ]
     },
     "execution_count": 5,
     "metadata": {},
     "output_type": "execute_result"
    }
   ],
   "source": [
    "loan_df['loan_status'].value_counts()"
   ]
  },
  {
   "cell_type": "code",
   "execution_count": 6,
   "metadata": {},
   "outputs": [],
   "source": [
    "loan_stat= loan_df[(loan_df['loan_status']).isin(['Fully Paid', 'Charged Off', 'Default'])]"
   ]
  },
  {
   "cell_type": "code",
   "execution_count": 7,
   "metadata": {},
   "outputs": [],
   "source": [
    "loan_stat['loan_status'] = loan_stat['loan_status'].replace({'Charged Off':'Default' , 'Fully Paid':'Good'})"
   ]
  },
  {
   "cell_type": "code",
   "execution_count": 8,
   "metadata": {},
   "outputs": [
    {
     "data": {
      "text/plain": [
       "Good       482595\n",
       "Default    129208\n",
       "Name: loan_status, dtype: int64"
      ]
     },
     "execution_count": 8,
     "metadata": {},
     "output_type": "execute_result"
    }
   ],
   "source": [
    "loan_stat['loan_status'].value_counts()"
   ]
  },
  {
   "cell_type": "code",
   "execution_count": 9,
   "metadata": {},
   "outputs": [
    {
     "data": {
      "text/plain": [
       "0"
      ]
     },
     "execution_count": 9,
     "metadata": {},
     "output_type": "execute_result"
    }
   ],
   "source": [
    "loan_stat['last_fico_range_low'].min()"
   ]
  },
  {
   "cell_type": "code",
   "execution_count": 10,
   "metadata": {},
   "outputs": [],
   "source": [
    "loan_stat['last_fico_range_low']= loan_stat.apply(lambda x: x['fico_range_low'] if x['last_fico_range_low']==0.0 else x['last_fico_range_low'], axis=1)"
   ]
  },
  {
   "cell_type": "code",
   "execution_count": 11,
   "metadata": {},
   "outputs": [
    {
     "data": {
      "text/plain": [
       "500"
      ]
     },
     "execution_count": 11,
     "metadata": {},
     "output_type": "execute_result"
    }
   ],
   "source": [
    "loan_stat['last_fico_range_low'].min()"
   ]
  },
  {
   "cell_type": "code",
   "execution_count": 12,
   "metadata": {},
   "outputs": [
    {
     "data": {
      "text/plain": [
       "500     3585\n",
       "505     3895\n",
       "510     4328\n",
       "515     4564\n",
       "520     5228\n",
       "525     5197\n",
       "530     5787\n",
       "535     5837\n",
       "540     6496\n",
       "545     6171\n",
       "550     6646\n",
       "555     6130\n",
       "560     6529\n",
       "565     6010\n",
       "570     6370\n",
       "575     5697\n",
       "580     6026\n",
       "585     5353\n",
       "590     5549\n",
       "595     5220\n",
       "600     5289\n",
       "605     5253\n",
       "610     5522\n",
       "615     5220\n",
       "620     5873\n",
       "625     5521\n",
       "630     6426\n",
       "635     6385\n",
       "640     7561\n",
       "645     8082\n",
       "       ...  \n",
       "700    20078\n",
       "705    20119\n",
       "710    19558\n",
       "715    19024\n",
       "720    18867\n",
       "725    16770\n",
       "730    16749\n",
       "735    14020\n",
       "740    13687\n",
       "745    11712\n",
       "750    11513\n",
       "755    10504\n",
       "760     9089\n",
       "765     9172\n",
       "770     8108\n",
       "775     8131\n",
       "780     7364\n",
       "785     6452\n",
       "790     6392\n",
       "795     5318\n",
       "800     4966\n",
       "805     4234\n",
       "810     3412\n",
       "815     2820\n",
       "820     1949\n",
       "825     1497\n",
       "830      887\n",
       "835      448\n",
       "840      246\n",
       "845      124\n",
       "Name: last_fico_range_low, Length: 70, dtype: int64"
      ]
     },
     "execution_count": 12,
     "metadata": {},
     "output_type": "execute_result"
    }
   ],
   "source": [
    "loan_stat['last_fico_range_low'].value_counts().sort_index()"
   ]
  },
  {
   "cell_type": "code",
   "execution_count": 13,
   "metadata": {},
   "outputs": [],
   "source": [
    "loan_stat['fico_buckets']= pd.cut(loan_stat['last_fico_range_low'],5, labels=['High Risk', 'Risk', 'Low Risk', 'Good', 'Excellent'])"
   ]
  },
  {
   "cell_type": "code",
   "execution_count": 14,
   "metadata": {},
   "outputs": [
    {
     "data": {
      "text/plain": [
       "Low Risk     222683\n",
       "Good         186904\n",
       "Risk          79704\n",
       "High Risk     76403\n",
       "Excellent     46109\n",
       "Name: fico_buckets, dtype: int64"
      ]
     },
     "execution_count": 14,
     "metadata": {},
     "output_type": "execute_result"
    }
   ],
   "source": [
    "loan_stat['fico_buckets'].value_counts()"
   ]
  },
  {
   "cell_type": "code",
   "execution_count": 15,
   "metadata": {},
   "outputs": [],
   "source": [
    "loan_status_df= loan_stat[['loan_status', 'fico_buckets']].groupby(['loan_status','fico_buckets']).agg({'fico_buckets': 'count'})"
   ]
  },
  {
   "cell_type": "code",
   "execution_count": 16,
   "metadata": {},
   "outputs": [
    {
     "data": {
      "text/html": [
       "<div>\n",
       "<style scoped>\n",
       "    .dataframe tbody tr th:only-of-type {\n",
       "        vertical-align: middle;\n",
       "    }\n",
       "\n",
       "    .dataframe tbody tr th {\n",
       "        vertical-align: top;\n",
       "    }\n",
       "\n",
       "    .dataframe thead th {\n",
       "        text-align: right;\n",
       "    }\n",
       "</style>\n",
       "<table border=\"1\" class=\"dataframe\">\n",
       "  <thead>\n",
       "    <tr style=\"text-align: right;\">\n",
       "      <th></th>\n",
       "      <th>loan_status</th>\n",
       "      <th>fico_buckets</th>\n",
       "      <th>count</th>\n",
       "    </tr>\n",
       "  </thead>\n",
       "  <tbody>\n",
       "    <tr>\n",
       "      <th>0</th>\n",
       "      <td>Default</td>\n",
       "      <td>High Risk</td>\n",
       "      <td>62487</td>\n",
       "    </tr>\n",
       "    <tr>\n",
       "      <th>1</th>\n",
       "      <td>Default</td>\n",
       "      <td>Risk</td>\n",
       "      <td>40171</td>\n",
       "    </tr>\n",
       "    <tr>\n",
       "      <th>2</th>\n",
       "      <td>Default</td>\n",
       "      <td>Low Risk</td>\n",
       "      <td>22693</td>\n",
       "    </tr>\n",
       "    <tr>\n",
       "      <th>3</th>\n",
       "      <td>Default</td>\n",
       "      <td>Good</td>\n",
       "      <td>3530</td>\n",
       "    </tr>\n",
       "    <tr>\n",
       "      <th>4</th>\n",
       "      <td>Default</td>\n",
       "      <td>Excellent</td>\n",
       "      <td>327</td>\n",
       "    </tr>\n",
       "    <tr>\n",
       "      <th>5</th>\n",
       "      <td>Good</td>\n",
       "      <td>High Risk</td>\n",
       "      <td>13916</td>\n",
       "    </tr>\n",
       "    <tr>\n",
       "      <th>6</th>\n",
       "      <td>Good</td>\n",
       "      <td>Risk</td>\n",
       "      <td>39533</td>\n",
       "    </tr>\n",
       "    <tr>\n",
       "      <th>7</th>\n",
       "      <td>Good</td>\n",
       "      <td>Low Risk</td>\n",
       "      <td>199990</td>\n",
       "    </tr>\n",
       "    <tr>\n",
       "      <th>8</th>\n",
       "      <td>Good</td>\n",
       "      <td>Good</td>\n",
       "      <td>183374</td>\n",
       "    </tr>\n",
       "    <tr>\n",
       "      <th>9</th>\n",
       "      <td>Good</td>\n",
       "      <td>Excellent</td>\n",
       "      <td>45782</td>\n",
       "    </tr>\n",
       "  </tbody>\n",
       "</table>\n",
       "</div>"
      ],
      "text/plain": [
       "  loan_status fico_buckets   count\n",
       "0     Default    High Risk   62487\n",
       "1     Default         Risk   40171\n",
       "2     Default     Low Risk   22693\n",
       "3     Default         Good    3530\n",
       "4     Default    Excellent     327\n",
       "5        Good    High Risk   13916\n",
       "6        Good         Risk   39533\n",
       "7        Good     Low Risk  199990\n",
       "8        Good         Good  183374\n",
       "9        Good    Excellent   45782"
      ]
     },
     "execution_count": 16,
     "metadata": {},
     "output_type": "execute_result"
    }
   ],
   "source": [
    "loan_status_df.rename({'fico_buckets':'count'}, axis='columns').reset_index()"
   ]
  },
  {
   "cell_type": "code",
   "execution_count": 17,
   "metadata": {},
   "outputs": [
    {
     "data": {
      "text/plain": [
       "<matplotlib.axes._subplots.AxesSubplot at 0x267261afbe0>"
      ]
     },
     "execution_count": 17,
     "metadata": {},
     "output_type": "execute_result"
    },
    {
     "data": {
      "image/png": "[encoded data removed]",
      "text/plain": [
       "<Figure size 432x288 with 1 Axes>"
      ]
     },
     "metadata": {
      "needs_background": "light"
     },
     "output_type": "display_data"
    }
   ],
   "source": [
    "sns.barplot(x= 'fico_buckets', y= 'count', hue='loan_status', data=loan_status_df.rename({'fico_buckets':'count'}, axis='columns').reset_index())"
   ]
  },
  {
   "cell_type": "code",
   "execution_count": 18,
   "metadata": {},
   "outputs": [
    {
     "data": {
      "text/plain": [
       "0                     (13.33, 16.55]\n",
       "1                     (10.99, 13.33]\n",
       "2                      (8.18, 10.99]\n",
       "4                     (16.55, 30.99]\n",
       "5                     (13.33, 16.55]\n",
       "6                      (8.18, 10.99]\n",
       "7                      (8.18, 10.99]\n",
       "8          (5.308999999999999, 8.18]\n",
       "9                     (10.99, 13.33]\n",
       "12                    (10.99, 13.33]\n",
       "13                    (16.55, 30.99]\n",
       "14         (5.308999999999999, 8.18]\n",
       "15         (5.308999999999999, 8.18]\n",
       "16         (5.308999999999999, 8.18]\n",
       "17                    (10.99, 13.33]\n",
       "19                    (16.55, 30.99]\n",
       "20                    (10.99, 13.33]\n",
       "21                    (13.33, 16.55]\n",
       "22                    (13.33, 16.55]\n",
       "23                    (13.33, 16.55]\n",
       "24         (5.308999999999999, 8.18]\n",
       "25                    (13.33, 16.55]\n",
       "26         (5.308999999999999, 8.18]\n",
       "27                    (16.55, 30.99]\n",
       "28         (5.308999999999999, 8.18]\n",
       "29         (5.308999999999999, 8.18]\n",
       "30                    (10.99, 13.33]\n",
       "31                    (16.55, 30.99]\n",
       "32                     (8.18, 10.99]\n",
       "33                    (13.33, 16.55]\n",
       "                     ...            \n",
       "1048530                (8.18, 10.99]\n",
       "1048531               (10.99, 13.33]\n",
       "1048532               (16.55, 30.99]\n",
       "1048533               (13.33, 16.55]\n",
       "1048535    (5.308999999999999, 8.18]\n",
       "1048536               (10.99, 13.33]\n",
       "1048537               (16.55, 30.99]\n",
       "1048538               (16.55, 30.99]\n",
       "1048539               (10.99, 13.33]\n",
       "1048540               (10.99, 13.33]\n",
       "1048541               (13.33, 16.55]\n",
       "1048542               (10.99, 13.33]\n",
       "1048543               (10.99, 13.33]\n",
       "1048545    (5.308999999999999, 8.18]\n",
       "1048547               (16.55, 30.99]\n",
       "1048548               (10.99, 13.33]\n",
       "1048549               (13.33, 16.55]\n",
       "1048550               (13.33, 16.55]\n",
       "1048551               (13.33, 16.55]\n",
       "1048552    (5.308999999999999, 8.18]\n",
       "1048553               (10.99, 13.33]\n",
       "1048554                (8.18, 10.99]\n",
       "1048555               (13.33, 16.55]\n",
       "1048556               (16.55, 30.99]\n",
       "1048557               (10.99, 13.33]\n",
       "1048558               (13.33, 16.55]\n",
       "1048559               (10.99, 13.33]\n",
       "1048560                (8.18, 10.99]\n",
       "1048561    (5.308999999999999, 8.18]\n",
       "1048562    (5.308999999999999, 8.18]\n",
       "Name: int_rate, Length: 611803, dtype: category\n",
       "Categories (5, interval[float64]): [(5.308999999999999, 8.18] < (8.18, 10.99] < (10.99, 13.33] < (13.33, 16.55] < (16.55, 30.99]]"
      ]
     },
     "execution_count": 18,
     "metadata": {},
     "output_type": "execute_result"
    }
   ],
   "source": [
    "pd.qcut(loan_stat['int_rate'], 5)"
   ]
  },
  {
   "cell_type": "code",
   "execution_count": 19,
   "metadata": {},
   "outputs": [],
   "source": [
    "loan_stat['interest_buckets']= pd.qcut(loan_stat['int_rate'],5, labels=['Low', 'Medium', 'High', 'Very High', 'ForgetIt'])"
   ]
  },
  {
   "cell_type": "code",
   "execution_count": 20,
   "metadata": {},
   "outputs": [
    {
     "data": {
      "text/plain": [
       "Low          130377\n",
       "High         127875\n",
       "Very High    118875\n",
       "Medium       117920\n",
       "ForgetIt     116756\n",
       "Name: interest_buckets, dtype: int64"
      ]
     },
     "execution_count": 20,
     "metadata": {},
     "output_type": "execute_result"
    }
   ],
   "source": [
    "loan_stat['interest_buckets'].value_counts()"
   ]
  },
  {
   "cell_type": "code",
   "execution_count": 21,
   "metadata": {},
   "outputs": [],
   "source": [
    "loan_rate_df= loan_stat[['loan_status', 'interest_buckets']].groupby(['loan_status','interest_buckets']).agg({'interest_buckets': 'count'})"
   ]
  },
  {
   "cell_type": "code",
   "execution_count": 22,
   "metadata": {},
   "outputs": [
    {
     "data": {
      "text/html": [
       "<div>\n",
       "<style scoped>\n",
       "    .dataframe tbody tr th:only-of-type {\n",
       "        vertical-align: middle;\n",
       "    }\n",
       "\n",
       "    .dataframe tbody tr th {\n",
       "        vertical-align: top;\n",
       "    }\n",
       "\n",
       "    .dataframe thead th {\n",
       "        text-align: right;\n",
       "    }\n",
       "</style>\n",
       "<table border=\"1\" class=\"dataframe\">\n",
       "  <thead>\n",
       "    <tr style=\"text-align: right;\">\n",
       "      <th></th>\n",
       "      <th>loan_status</th>\n",
       "      <th>interest_buckets</th>\n",
       "      <th>count</th>\n",
       "    </tr>\n",
       "  </thead>\n",
       "  <tbody>\n",
       "    <tr>\n",
       "      <th>0</th>\n",
       "      <td>Default</td>\n",
       "      <td>Low</td>\n",
       "      <td>8572</td>\n",
       "    </tr>\n",
       "    <tr>\n",
       "      <th>1</th>\n",
       "      <td>Default</td>\n",
       "      <td>Medium</td>\n",
       "      <td>16128</td>\n",
       "    </tr>\n",
       "    <tr>\n",
       "      <th>2</th>\n",
       "      <td>Default</td>\n",
       "      <td>High</td>\n",
       "      <td>25441</td>\n",
       "    </tr>\n",
       "    <tr>\n",
       "      <th>3</th>\n",
       "      <td>Default</td>\n",
       "      <td>Very High</td>\n",
       "      <td>32580</td>\n",
       "    </tr>\n",
       "    <tr>\n",
       "      <th>4</th>\n",
       "      <td>Default</td>\n",
       "      <td>ForgetIt</td>\n",
       "      <td>46487</td>\n",
       "    </tr>\n",
       "    <tr>\n",
       "      <th>5</th>\n",
       "      <td>Good</td>\n",
       "      <td>Low</td>\n",
       "      <td>121805</td>\n",
       "    </tr>\n",
       "    <tr>\n",
       "      <th>6</th>\n",
       "      <td>Good</td>\n",
       "      <td>Medium</td>\n",
       "      <td>101792</td>\n",
       "    </tr>\n",
       "    <tr>\n",
       "      <th>7</th>\n",
       "      <td>Good</td>\n",
       "      <td>High</td>\n",
       "      <td>102434</td>\n",
       "    </tr>\n",
       "    <tr>\n",
       "      <th>8</th>\n",
       "      <td>Good</td>\n",
       "      <td>Very High</td>\n",
       "      <td>86295</td>\n",
       "    </tr>\n",
       "    <tr>\n",
       "      <th>9</th>\n",
       "      <td>Good</td>\n",
       "      <td>ForgetIt</td>\n",
       "      <td>70269</td>\n",
       "    </tr>\n",
       "  </tbody>\n",
       "</table>\n",
       "</div>"
      ],
      "text/plain": [
       "  loan_status interest_buckets   count\n",
       "0     Default              Low    8572\n",
       "1     Default           Medium   16128\n",
       "2     Default             High   25441\n",
       "3     Default        Very High   32580\n",
       "4     Default         ForgetIt   46487\n",
       "5        Good              Low  121805\n",
       "6        Good           Medium  101792\n",
       "7        Good             High  102434\n",
       "8        Good        Very High   86295\n",
       "9        Good         ForgetIt   70269"
      ]
     },
     "execution_count": 22,
     "metadata": {},
     "output_type": "execute_result"
    }
   ],
   "source": [
    "loan_rate_df.rename({'interest_buckets':'count'}, axis='columns').reset_index()"
   ]
  },
  {
   "cell_type": "code",
   "execution_count": 23,
   "metadata": {},
   "outputs": [
    {
     "data": {
      "text/plain": [
       "<matplotlib.axes._subplots.AxesSubplot at 0x267262abf98>"
      ]
     },
     "execution_count": 23,
     "metadata": {},
     "output_type": "execute_result"
    },
    {
     "data": {
      "image/png": "[encoded data removed]",
      "text/plain": [
       "<Figure size 432x288 with 1 Axes>"
      ]
     },
     "metadata": {
      "needs_background": "light"
     },
     "output_type": "display_data"
    }
   ],
   "source": [
    "sns.barplot(x= 'interest_buckets', y= 'count', hue='loan_status', data=loan_rate_df.rename({'interest_buckets':'count'}, axis='columns').reset_index())"
   ]
  },
  {
   "cell_type": "code",
   "execution_count": 24,
   "metadata": {},
   "outputs": [
    {
     "data": {
      "text/html": [
       "<div>\n",
       "<style scoped>\n",
       "    .dataframe tbody tr th:only-of-type {\n",
       "        vertical-align: middle;\n",
       "    }\n",
       "\n",
       "    .dataframe tbody tr th {\n",
       "        vertical-align: top;\n",
       "    }\n",
       "\n",
       "    .dataframe thead th {\n",
       "        text-align: right;\n",
       "    }\n",
       "</style>\n",
       "<table border=\"1\" class=\"dataframe\">\n",
       "  <thead>\n",
       "    <tr style=\"text-align: right;\">\n",
       "      <th></th>\n",
       "      <th></th>\n",
       "      <th>loan_status</th>\n",
       "    </tr>\n",
       "    <tr>\n",
       "      <th>fico_buckets</th>\n",
       "      <th>interest_buckets</th>\n",
       "      <th></th>\n",
       "    </tr>\n",
       "  </thead>\n",
       "  <tbody>\n",
       "    <tr>\n",
       "      <th rowspan=\"5\" valign=\"top\">High Risk</th>\n",
       "      <th>Low</th>\n",
       "      <td>4821</td>\n",
       "    </tr>\n",
       "    <tr>\n",
       "      <th>Medium</th>\n",
       "      <td>9643</td>\n",
       "    </tr>\n",
       "    <tr>\n",
       "      <th>High</th>\n",
       "      <td>16080</td>\n",
       "    </tr>\n",
       "    <tr>\n",
       "      <th>Very High</th>\n",
       "      <td>19819</td>\n",
       "    </tr>\n",
       "    <tr>\n",
       "      <th>ForgetIt</th>\n",
       "      <td>26040</td>\n",
       "    </tr>\n",
       "    <tr>\n",
       "      <th rowspan=\"5\" valign=\"top\">Risk</th>\n",
       "      <th>Low</th>\n",
       "      <td>7162</td>\n",
       "    </tr>\n",
       "    <tr>\n",
       "      <th>Medium</th>\n",
       "      <td>11806</td>\n",
       "    </tr>\n",
       "    <tr>\n",
       "      <th>High</th>\n",
       "      <td>18385</td>\n",
       "    </tr>\n",
       "    <tr>\n",
       "      <th>Very High</th>\n",
       "      <td>19204</td>\n",
       "    </tr>\n",
       "    <tr>\n",
       "      <th>ForgetIt</th>\n",
       "      <td>23147</td>\n",
       "    </tr>\n",
       "    <tr>\n",
       "      <th rowspan=\"5\" valign=\"top\">Low Risk</th>\n",
       "      <th>Low</th>\n",
       "      <td>33000</td>\n",
       "    </tr>\n",
       "    <tr>\n",
       "      <th>Medium</th>\n",
       "      <td>44070</td>\n",
       "    </tr>\n",
       "    <tr>\n",
       "      <th>High</th>\n",
       "      <td>51648</td>\n",
       "    </tr>\n",
       "    <tr>\n",
       "      <th>Very High</th>\n",
       "      <td>48148</td>\n",
       "    </tr>\n",
       "    <tr>\n",
       "      <th>ForgetIt</th>\n",
       "      <td>45817</td>\n",
       "    </tr>\n",
       "    <tr>\n",
       "      <th rowspan=\"5\" valign=\"top\">Good</th>\n",
       "      <th>Low</th>\n",
       "      <td>59777</td>\n",
       "    </tr>\n",
       "    <tr>\n",
       "      <th>Medium</th>\n",
       "      <td>43395</td>\n",
       "    </tr>\n",
       "    <tr>\n",
       "      <th>High</th>\n",
       "      <td>36022</td>\n",
       "    </tr>\n",
       "    <tr>\n",
       "      <th>Very High</th>\n",
       "      <td>28051</td>\n",
       "    </tr>\n",
       "    <tr>\n",
       "      <th>ForgetIt</th>\n",
       "      <td>19659</td>\n",
       "    </tr>\n",
       "    <tr>\n",
       "      <th rowspan=\"5\" valign=\"top\">Excellent</th>\n",
       "      <th>Low</th>\n",
       "      <td>25617</td>\n",
       "    </tr>\n",
       "    <tr>\n",
       "      <th>Medium</th>\n",
       "      <td>9006</td>\n",
       "    </tr>\n",
       "    <tr>\n",
       "      <th>High</th>\n",
       "      <td>5740</td>\n",
       "    </tr>\n",
       "    <tr>\n",
       "      <th>Very High</th>\n",
       "      <td>3653</td>\n",
       "    </tr>\n",
       "    <tr>\n",
       "      <th>ForgetIt</th>\n",
       "      <td>2093</td>\n",
       "    </tr>\n",
       "  </tbody>\n",
       "</table>\n",
       "</div>"
      ],
      "text/plain": [
       "                               loan_status\n",
       "fico_buckets interest_buckets             \n",
       "High Risk    Low                      4821\n",
       "             Medium                   9643\n",
       "             High                    16080\n",
       "             Very High               19819\n",
       "             ForgetIt                26040\n",
       "Risk         Low                      7162\n",
       "             Medium                  11806\n",
       "             High                    18385\n",
       "             Very High               19204\n",
       "             ForgetIt                23147\n",
       "Low Risk     Low                     33000\n",
       "             Medium                  44070\n",
       "             High                    51648\n",
       "             Very High               48148\n",
       "             ForgetIt                45817\n",
       "Good         Low                     59777\n",
       "             Medium                  43395\n",
       "             High                    36022\n",
       "             Very High               28051\n",
       "             ForgetIt                19659\n",
       "Excellent    Low                     25617\n",
       "             Medium                   9006\n",
       "             High                     5740\n",
       "             Very High                3653\n",
       "             ForgetIt                 2093"
      ]
     },
     "execution_count": 24,
     "metadata": {},
     "output_type": "execute_result"
    }
   ],
   "source": [
    "loan_stat[['loan_status', 'interest_buckets', 'fico_buckets']].groupby(['fico_buckets','interest_buckets']).agg({'loan_status': 'count'})"
   ]
  },
  {
   "cell_type": "code",
   "execution_count": 25,
   "metadata": {},
   "outputs": [
    {
     "data": {
      "text/html": [
       "<div>\n",
       "<style scoped>\n",
       "    .dataframe tbody tr th:only-of-type {\n",
       "        vertical-align: middle;\n",
       "    }\n",
       "\n",
       "    .dataframe tbody tr th {\n",
       "        vertical-align: top;\n",
       "    }\n",
       "\n",
       "    .dataframe thead th {\n",
       "        text-align: right;\n",
       "    }\n",
       "</style>\n",
       "<table border=\"1\" class=\"dataframe\">\n",
       "  <thead>\n",
       "    <tr style=\"text-align: right;\">\n",
       "      <th>interest_buckets</th>\n",
       "      <th>Low</th>\n",
       "      <th>Medium</th>\n",
       "      <th>High</th>\n",
       "      <th>Very High</th>\n",
       "      <th>ForgetIt</th>\n",
       "      <th>All</th>\n",
       "    </tr>\n",
       "    <tr>\n",
       "      <th>fico_buckets</th>\n",
       "      <th></th>\n",
       "      <th></th>\n",
       "      <th></th>\n",
       "      <th></th>\n",
       "      <th></th>\n",
       "      <th></th>\n",
       "    </tr>\n",
       "  </thead>\n",
       "  <tbody>\n",
       "    <tr>\n",
       "      <th>High Risk</th>\n",
       "      <td>4821</td>\n",
       "      <td>9643</td>\n",
       "      <td>16080</td>\n",
       "      <td>19819</td>\n",
       "      <td>26040</td>\n",
       "      <td>76403</td>\n",
       "    </tr>\n",
       "    <tr>\n",
       "      <th>Risk</th>\n",
       "      <td>7162</td>\n",
       "      <td>11806</td>\n",
       "      <td>18385</td>\n",
       "      <td>19204</td>\n",
       "      <td>23147</td>\n",
       "      <td>186904</td>\n",
       "    </tr>\n",
       "    <tr>\n",
       "      <th>Low Risk</th>\n",
       "      <td>33000</td>\n",
       "      <td>44070</td>\n",
       "      <td>51648</td>\n",
       "      <td>48148</td>\n",
       "      <td>45817</td>\n",
       "      <td>79704</td>\n",
       "    </tr>\n",
       "    <tr>\n",
       "      <th>Good</th>\n",
       "      <td>59777</td>\n",
       "      <td>43395</td>\n",
       "      <td>36022</td>\n",
       "      <td>28051</td>\n",
       "      <td>19659</td>\n",
       "      <td>222683</td>\n",
       "    </tr>\n",
       "    <tr>\n",
       "      <th>Excellent</th>\n",
       "      <td>25617</td>\n",
       "      <td>9006</td>\n",
       "      <td>5740</td>\n",
       "      <td>3653</td>\n",
       "      <td>2093</td>\n",
       "      <td>46109</td>\n",
       "    </tr>\n",
       "    <tr>\n",
       "      <th>All</th>\n",
       "      <td>116756</td>\n",
       "      <td>127875</td>\n",
       "      <td>117920</td>\n",
       "      <td>130377</td>\n",
       "      <td>118875</td>\n",
       "      <td>611803</td>\n",
       "    </tr>\n",
       "  </tbody>\n",
       "</table>\n",
       "</div>"
      ],
      "text/plain": [
       "interest_buckets     Low  Medium    High  Very High  ForgetIt     All\n",
       "fico_buckets                                                         \n",
       "High Risk           4821    9643   16080      19819     26040   76403\n",
       "Risk                7162   11806   18385      19204     23147  186904\n",
       "Low Risk           33000   44070   51648      48148     45817   79704\n",
       "Good               59777   43395   36022      28051     19659  222683\n",
       "Excellent          25617    9006    5740       3653      2093   46109\n",
       "All               116756  127875  117920     130377    118875  611803"
      ]
     },
     "execution_count": 25,
     "metadata": {},
     "output_type": "execute_result"
    }
   ],
   "source": [
    "pd.crosstab(index= loan_stat['fico_buckets'],columns=loan_stat['interest_buckets'], margins=True)"
   ]
  },
  {
   "cell_type": "code",
   "execution_count": 26,
   "metadata": {},
   "outputs": [
    {
     "data": {
      "text/html": [
       "<div>\n",
       "<style scoped>\n",
       "    .dataframe tbody tr th:only-of-type {\n",
       "        vertical-align: middle;\n",
       "    }\n",
       "\n",
       "    .dataframe tbody tr th {\n",
       "        vertical-align: top;\n",
       "    }\n",
       "\n",
       "    .dataframe thead th {\n",
       "        text-align: right;\n",
       "    }\n",
       "</style>\n",
       "<table border=\"1\" class=\"dataframe\">\n",
       "  <thead>\n",
       "    <tr style=\"text-align: right;\">\n",
       "      <th>interest_buckets</th>\n",
       "      <th>Low</th>\n",
       "      <th>Medium</th>\n",
       "      <th>High</th>\n",
       "      <th>Very High</th>\n",
       "      <th>ForgetIt</th>\n",
       "    </tr>\n",
       "    <tr>\n",
       "      <th>fico_buckets</th>\n",
       "      <th></th>\n",
       "      <th></th>\n",
       "      <th></th>\n",
       "      <th></th>\n",
       "      <th></th>\n",
       "    </tr>\n",
       "  </thead>\n",
       "  <tbody>\n",
       "    <tr>\n",
       "      <th>High Risk</th>\n",
       "      <td>6.309962</td>\n",
       "      <td>12.621232</td>\n",
       "      <td>21.046294</td>\n",
       "      <td>25.940081</td>\n",
       "      <td>34.082431</td>\n",
       "    </tr>\n",
       "    <tr>\n",
       "      <th>Risk</th>\n",
       "      <td>8.985747</td>\n",
       "      <td>14.812306</td>\n",
       "      <td>23.066596</td>\n",
       "      <td>24.094148</td>\n",
       "      <td>29.041202</td>\n",
       "    </tr>\n",
       "    <tr>\n",
       "      <th>Low Risk</th>\n",
       "      <td>14.819272</td>\n",
       "      <td>19.790464</td>\n",
       "      <td>23.193508</td>\n",
       "      <td>21.621767</td>\n",
       "      <td>20.574988</td>\n",
       "    </tr>\n",
       "    <tr>\n",
       "      <th>Good</th>\n",
       "      <td>31.982729</td>\n",
       "      <td>23.217802</td>\n",
       "      <td>19.272996</td>\n",
       "      <td>15.008240</td>\n",
       "      <td>10.518234</td>\n",
       "    </tr>\n",
       "    <tr>\n",
       "      <th>Excellent</th>\n",
       "      <td>55.557483</td>\n",
       "      <td>19.531979</td>\n",
       "      <td>12.448763</td>\n",
       "      <td>7.922531</td>\n",
       "      <td>4.539244</td>\n",
       "    </tr>\n",
       "  </tbody>\n",
       "</table>\n",
       "</div>"
      ],
      "text/plain": [
       "interest_buckets        Low     Medium       High  Very High   ForgetIt\n",
       "fico_buckets                                                           \n",
       "High Risk          6.309962  12.621232  21.046294  25.940081  34.082431\n",
       "Risk               8.985747  14.812306  23.066596  24.094148  29.041202\n",
       "Low Risk          14.819272  19.790464  23.193508  21.621767  20.574988\n",
       "Good              31.982729  23.217802  19.272996  15.008240  10.518234\n",
       "Excellent         55.557483  19.531979  12.448763   7.922531   4.539244"
      ]
     },
     "execution_count": 26,
     "metadata": {},
     "output_type": "execute_result"
    }
   ],
   "source": [
    "pd.crosstab(index= loan_stat['fico_buckets'],columns=loan_stat['interest_buckets']).apply(lambda x: (x/x.sum())*100,axis=1)"
   ]
  },
  {
   "cell_type": "code",
   "execution_count": 27,
   "metadata": {},
   "outputs": [],
   "source": [
    "fico_rate_ct= pd.crosstab(index= loan_stat['fico_buckets'],columns=loan_stat['interest_buckets'])"
   ]
  },
  {
   "cell_type": "code",
   "execution_count": 28,
   "metadata": {},
   "outputs": [
    {
     "data": {
      "text/plain": [
       "<matplotlib.axes._subplots.AxesSubplot at 0x26726353cc0>"
      ]
     },
     "execution_count": 28,
     "metadata": {},
     "output_type": "execute_result"
    },
    {
     "data": {
      "image/png": "[encoded data removed]",
      "text/plain": [
       "<Figure size 432x288 with 1 Axes>"
      ]
     },
     "metadata": {
      "needs_background": "light"
     },
     "output_type": "display_data"
    }
   ],
   "source": [
    "fico_rate_ct.plot.bar()"
   ]
  },
  {
   "cell_type": "code",
   "execution_count": 29,
   "metadata": {},
   "outputs": [],
   "source": [
    "(chi2, p, dof,_) = stats.chi2_contingency([fico_rate_ct.iloc[0].values,fico_rate_ct.iloc[1].values,fico_rate_ct.iloc[2].values,fico_rate_ct.iloc[3].values, fico_rate_ct.iloc[4].values])"
   ]
  },
  {
   "cell_type": "code",
   "execution_count": 30,
   "metadata": {},
   "outputs": [
    {
     "name": "stdout",
     "output_type": "stream",
     "text": [
      "chi2: 94025.13343840712\n",
      "p-value: 0.0\n",
      "Degree of Freedom: 16\n"
     ]
    }
   ],
   "source": [
    "print('chi2:', chi2)\n",
    "print('p-value:', p)\n",
    "print('Degree of Freedom:', dof)"
   ]
  },
  {
   "cell_type": "code",
   "execution_count": 31,
   "metadata": {},
   "outputs": [],
   "source": [
    "#Creating a new column\n",
    "import math\n",
    "loan_stat['fico_score']= loan_stat['last_fico_range_low'].apply(lambda x: (math.ceil(x/10))*10)"
   ]
  },
  {
   "cell_type": "code",
   "execution_count": 32,
   "metadata": {},
   "outputs": [
    {
     "data": {
      "text/html": [
       "<div>\n",
       "<style scoped>\n",
       "    .dataframe tbody tr th:only-of-type {\n",
       "        vertical-align: middle;\n",
       "    }\n",
       "\n",
       "    .dataframe tbody tr th {\n",
       "        vertical-align: top;\n",
       "    }\n",
       "\n",
       "    .dataframe thead th {\n",
       "        text-align: right;\n",
       "    }\n",
       "</style>\n",
       "<table border=\"1\" class=\"dataframe\">\n",
       "  <thead>\n",
       "    <tr style=\"text-align: right;\">\n",
       "      <th></th>\n",
       "      <th>id</th>\n",
       "      <th>loan_amnt</th>\n",
       "      <th>int_rate</th>\n",
       "      <th>installment</th>\n",
       "      <th>grade</th>\n",
       "      <th>emp_title</th>\n",
       "      <th>home_ownership</th>\n",
       "      <th>annual_inc</th>\n",
       "      <th>loan_status</th>\n",
       "      <th>purpose</th>\n",
       "      <th>...</th>\n",
       "      <th>revol_bal</th>\n",
       "      <th>out_prncp</th>\n",
       "      <th>last_fico_range_high</th>\n",
       "      <th>last_fico_range_low</th>\n",
       "      <th>application_type</th>\n",
       "      <th>annual_inc_joint</th>\n",
       "      <th>dti_joint</th>\n",
       "      <th>fico_buckets</th>\n",
       "      <th>interest_buckets</th>\n",
       "      <th>fico_score</th>\n",
       "    </tr>\n",
       "  </thead>\n",
       "  <tbody>\n",
       "    <tr>\n",
       "      <th>0</th>\n",
       "      <td>68407277</td>\n",
       "      <td>3600</td>\n",
       "      <td>13.99</td>\n",
       "      <td>123.03</td>\n",
       "      <td>C</td>\n",
       "      <td>leadman</td>\n",
       "      <td>MORTGAGE</td>\n",
       "      <td>55000.0</td>\n",
       "      <td>Good</td>\n",
       "      <td>debt_consolidation</td>\n",
       "      <td>...</td>\n",
       "      <td>2765</td>\n",
       "      <td>0.0</td>\n",
       "      <td>564</td>\n",
       "      <td>560</td>\n",
       "      <td>Individual</td>\n",
       "      <td>NaN</td>\n",
       "      <td>NaN</td>\n",
       "      <td>High Risk</td>\n",
       "      <td>Very High</td>\n",
       "      <td>560</td>\n",
       "    </tr>\n",
       "    <tr>\n",
       "      <th>1</th>\n",
       "      <td>68355089</td>\n",
       "      <td>24700</td>\n",
       "      <td>11.99</td>\n",
       "      <td>820.28</td>\n",
       "      <td>C</td>\n",
       "      <td>Engineer</td>\n",
       "      <td>MORTGAGE</td>\n",
       "      <td>65000.0</td>\n",
       "      <td>Good</td>\n",
       "      <td>small_business</td>\n",
       "      <td>...</td>\n",
       "      <td>21470</td>\n",
       "      <td>0.0</td>\n",
       "      <td>699</td>\n",
       "      <td>695</td>\n",
       "      <td>Individual</td>\n",
       "      <td>NaN</td>\n",
       "      <td>NaN</td>\n",
       "      <td>Low Risk</td>\n",
       "      <td>High</td>\n",
       "      <td>700</td>\n",
       "    </tr>\n",
       "    <tr>\n",
       "      <th>2</th>\n",
       "      <td>68341763</td>\n",
       "      <td>20000</td>\n",
       "      <td>10.78</td>\n",
       "      <td>432.66</td>\n",
       "      <td>B</td>\n",
       "      <td>truck driver</td>\n",
       "      <td>MORTGAGE</td>\n",
       "      <td>63000.0</td>\n",
       "      <td>Good</td>\n",
       "      <td>home_improvement</td>\n",
       "      <td>...</td>\n",
       "      <td>7869</td>\n",
       "      <td>0.0</td>\n",
       "      <td>704</td>\n",
       "      <td>700</td>\n",
       "      <td>Joint App</td>\n",
       "      <td>71000.0</td>\n",
       "      <td>13.85</td>\n",
       "      <td>Low Risk</td>\n",
       "      <td>Medium</td>\n",
       "      <td>700</td>\n",
       "    </tr>\n",
       "    <tr>\n",
       "      <th>4</th>\n",
       "      <td>68476807</td>\n",
       "      <td>10400</td>\n",
       "      <td>22.45</td>\n",
       "      <td>289.91</td>\n",
       "      <td>F</td>\n",
       "      <td>Contract Specialist</td>\n",
       "      <td>MORTGAGE</td>\n",
       "      <td>104433.0</td>\n",
       "      <td>Good</td>\n",
       "      <td>major_purchase</td>\n",
       "      <td>...</td>\n",
       "      <td>21929</td>\n",
       "      <td>0.0</td>\n",
       "      <td>704</td>\n",
       "      <td>700</td>\n",
       "      <td>Individual</td>\n",
       "      <td>NaN</td>\n",
       "      <td>NaN</td>\n",
       "      <td>Low Risk</td>\n",
       "      <td>ForgetIt</td>\n",
       "      <td>700</td>\n",
       "    </tr>\n",
       "    <tr>\n",
       "      <th>5</th>\n",
       "      <td>68426831</td>\n",
       "      <td>11950</td>\n",
       "      <td>13.44</td>\n",
       "      <td>405.18</td>\n",
       "      <td>C</td>\n",
       "      <td>Veterinary Tecnician</td>\n",
       "      <td>RENT</td>\n",
       "      <td>34000.0</td>\n",
       "      <td>Good</td>\n",
       "      <td>debt_consolidation</td>\n",
       "      <td>...</td>\n",
       "      <td>8822</td>\n",
       "      <td>0.0</td>\n",
       "      <td>759</td>\n",
       "      <td>755</td>\n",
       "      <td>Individual</td>\n",
       "      <td>NaN</td>\n",
       "      <td>NaN</td>\n",
       "      <td>Good</td>\n",
       "      <td>Very High</td>\n",
       "      <td>760</td>\n",
       "    </tr>\n",
       "  </tbody>\n",
       "</table>\n",
       "<p>5 rows × 27 columns</p>\n",
       "</div>"
      ],
      "text/plain": [
       "         id  loan_amnt  int_rate  installment grade             emp_title  \\\n",
       "0  68407277       3600     13.99       123.03     C               leadman   \n",
       "1  68355089      24700     11.99       820.28     C              Engineer   \n",
       "2  68341763      20000     10.78       432.66     B          truck driver   \n",
       "4  68476807      10400     22.45       289.91     F   Contract Specialist   \n",
       "5  68426831      11950     13.44       405.18     C  Veterinary Tecnician   \n",
       "\n",
       "  home_ownership  annual_inc loan_status             purpose  ... revol_bal  \\\n",
       "0       MORTGAGE     55000.0        Good  debt_consolidation  ...      2765   \n",
       "1       MORTGAGE     65000.0        Good      small_business  ...     21470   \n",
       "2       MORTGAGE     63000.0        Good    home_improvement  ...      7869   \n",
       "4       MORTGAGE    104433.0        Good      major_purchase  ...     21929   \n",
       "5           RENT     34000.0        Good  debt_consolidation  ...      8822   \n",
       "\n",
       "   out_prncp  last_fico_range_high  last_fico_range_low  application_type  \\\n",
       "0        0.0                   564                  560        Individual   \n",
       "1        0.0                   699                  695        Individual   \n",
       "2        0.0                   704                  700         Joint App   \n",
       "4        0.0                   704                  700        Individual   \n",
       "5        0.0                   759                  755        Individual   \n",
       "\n",
       "   annual_inc_joint  dti_joint  fico_buckets  interest_buckets  fico_score  \n",
       "0               NaN        NaN     High Risk         Very High         560  \n",
       "1               NaN        NaN      Low Risk              High         700  \n",
       "2           71000.0      13.85      Low Risk            Medium         700  \n",
       "4               NaN        NaN      Low Risk          ForgetIt         700  \n",
       "5               NaN        NaN          Good         Very High         760  \n",
       "\n",
       "[5 rows x 27 columns]"
      ]
     },
     "execution_count": 32,
     "metadata": {},
     "output_type": "execute_result"
    }
   ],
   "source": [
    "loan_stat.head()"
   ]
  },
  {
   "cell_type": "code",
   "execution_count": 33,
   "metadata": {},
   "outputs": [
    {
     "data": {
      "text/plain": [
       "500     3183\n",
       "510     7191\n",
       "520     8370\n",
       "530     9254\n",
       "540    10127\n",
       "550    10164\n",
       "560     9703\n",
       "570     9060\n",
       "580     8004\n",
       "590     6852\n",
       "600     5881\n",
       "610     5195\n",
       "620     4468\n",
       "630     3708\n",
       "640     2898\n",
       "650     2310\n",
       "660     4091\n",
       "670     5232\n",
       "680     3918\n",
       "690     2875\n",
       "700     2027\n",
       "710     1515\n",
       "720     1024\n",
       "730      613\n",
       "740      447\n",
       "750      298\n",
       "760      230\n",
       "770      167\n",
       "780      136\n",
       "790       92\n",
       "800       72\n",
       "810       52\n",
       "820       28\n",
       "830       14\n",
       "840        6\n",
       "850        3\n",
       "Name: fico_score, dtype: int64"
      ]
     },
     "execution_count": 33,
     "metadata": {},
     "output_type": "execute_result"
    }
   ],
   "source": [
    "loan_stat[loan_stat['loan_status']=='Default']['fico_score'].value_counts().sort_index()"
   ]
  },
  {
   "cell_type": "code",
   "execution_count": 34,
   "metadata": {},
   "outputs": [],
   "source": [
    "fico_df= pd.DataFrame(loan_stat[loan_stat['loan_status']=='Default']['fico_score'].value_counts().sort_index())"
   ]
  },
  {
   "cell_type": "code",
   "execution_count": 35,
   "metadata": {},
   "outputs": [],
   "source": [
    "fico_df= fico_df.reset_index()"
   ]
  },
  {
   "cell_type": "code",
   "execution_count": 36,
   "metadata": {},
   "outputs": [],
   "source": [
    "fico_df.columns = ['fico_score', 'default_total']"
   ]
  },
  {
   "cell_type": "code",
   "execution_count": 37,
   "metadata": {},
   "outputs": [
    {
     "data": {
      "text/html": [
       "<div>\n",
       "<style scoped>\n",
       "    .dataframe tbody tr th:only-of-type {\n",
       "        vertical-align: middle;\n",
       "    }\n",
       "\n",
       "    .dataframe tbody tr th {\n",
       "        vertical-align: top;\n",
       "    }\n",
       "\n",
       "    .dataframe thead th {\n",
       "        text-align: right;\n",
       "    }\n",
       "</style>\n",
       "<table border=\"1\" class=\"dataframe\">\n",
       "  <thead>\n",
       "    <tr style=\"text-align: right;\">\n",
       "      <th></th>\n",
       "      <th>fico_score</th>\n",
       "      <th>default_total</th>\n",
       "    </tr>\n",
       "  </thead>\n",
       "  <tbody>\n",
       "    <tr>\n",
       "      <th>0</th>\n",
       "      <td>500</td>\n",
       "      <td>3183</td>\n",
       "    </tr>\n",
       "    <tr>\n",
       "      <th>1</th>\n",
       "      <td>510</td>\n",
       "      <td>7191</td>\n",
       "    </tr>\n",
       "    <tr>\n",
       "      <th>2</th>\n",
       "      <td>520</td>\n",
       "      <td>8370</td>\n",
       "    </tr>\n",
       "    <tr>\n",
       "      <th>3</th>\n",
       "      <td>530</td>\n",
       "      <td>9254</td>\n",
       "    </tr>\n",
       "    <tr>\n",
       "      <th>4</th>\n",
       "      <td>540</td>\n",
       "      <td>10127</td>\n",
       "    </tr>\n",
       "    <tr>\n",
       "      <th>5</th>\n",
       "      <td>550</td>\n",
       "      <td>10164</td>\n",
       "    </tr>\n",
       "    <tr>\n",
       "      <th>6</th>\n",
       "      <td>560</td>\n",
       "      <td>9703</td>\n",
       "    </tr>\n",
       "    <tr>\n",
       "      <th>7</th>\n",
       "      <td>570</td>\n",
       "      <td>9060</td>\n",
       "    </tr>\n",
       "    <tr>\n",
       "      <th>8</th>\n",
       "      <td>580</td>\n",
       "      <td>8004</td>\n",
       "    </tr>\n",
       "    <tr>\n",
       "      <th>9</th>\n",
       "      <td>590</td>\n",
       "      <td>6852</td>\n",
       "    </tr>\n",
       "    <tr>\n",
       "      <th>10</th>\n",
       "      <td>600</td>\n",
       "      <td>5881</td>\n",
       "    </tr>\n",
       "    <tr>\n",
       "      <th>11</th>\n",
       "      <td>610</td>\n",
       "      <td>5195</td>\n",
       "    </tr>\n",
       "    <tr>\n",
       "      <th>12</th>\n",
       "      <td>620</td>\n",
       "      <td>4468</td>\n",
       "    </tr>\n",
       "    <tr>\n",
       "      <th>13</th>\n",
       "      <td>630</td>\n",
       "      <td>3708</td>\n",
       "    </tr>\n",
       "    <tr>\n",
       "      <th>14</th>\n",
       "      <td>640</td>\n",
       "      <td>2898</td>\n",
       "    </tr>\n",
       "    <tr>\n",
       "      <th>15</th>\n",
       "      <td>650</td>\n",
       "      <td>2310</td>\n",
       "    </tr>\n",
       "    <tr>\n",
       "      <th>16</th>\n",
       "      <td>660</td>\n",
       "      <td>4091</td>\n",
       "    </tr>\n",
       "    <tr>\n",
       "      <th>17</th>\n",
       "      <td>670</td>\n",
       "      <td>5232</td>\n",
       "    </tr>\n",
       "    <tr>\n",
       "      <th>18</th>\n",
       "      <td>680</td>\n",
       "      <td>3918</td>\n",
       "    </tr>\n",
       "    <tr>\n",
       "      <th>19</th>\n",
       "      <td>690</td>\n",
       "      <td>2875</td>\n",
       "    </tr>\n",
       "    <tr>\n",
       "      <th>20</th>\n",
       "      <td>700</td>\n",
       "      <td>2027</td>\n",
       "    </tr>\n",
       "    <tr>\n",
       "      <th>21</th>\n",
       "      <td>710</td>\n",
       "      <td>1515</td>\n",
       "    </tr>\n",
       "    <tr>\n",
       "      <th>22</th>\n",
       "      <td>720</td>\n",
       "      <td>1024</td>\n",
       "    </tr>\n",
       "    <tr>\n",
       "      <th>23</th>\n",
       "      <td>730</td>\n",
       "      <td>613</td>\n",
       "    </tr>\n",
       "    <tr>\n",
       "      <th>24</th>\n",
       "      <td>740</td>\n",
       "      <td>447</td>\n",
       "    </tr>\n",
       "    <tr>\n",
       "      <th>25</th>\n",
       "      <td>750</td>\n",
       "      <td>298</td>\n",
       "    </tr>\n",
       "    <tr>\n",
       "      <th>26</th>\n",
       "      <td>760</td>\n",
       "      <td>230</td>\n",
       "    </tr>\n",
       "    <tr>\n",
       "      <th>27</th>\n",
       "      <td>770</td>\n",
       "      <td>167</td>\n",
       "    </tr>\n",
       "    <tr>\n",
       "      <th>28</th>\n",
       "      <td>780</td>\n",
       "      <td>136</td>\n",
       "    </tr>\n",
       "    <tr>\n",
       "      <th>29</th>\n",
       "      <td>790</td>\n",
       "      <td>92</td>\n",
       "    </tr>\n",
       "    <tr>\n",
       "      <th>30</th>\n",
       "      <td>800</td>\n",
       "      <td>72</td>\n",
       "    </tr>\n",
       "    <tr>\n",
       "      <th>31</th>\n",
       "      <td>810</td>\n",
       "      <td>52</td>\n",
       "    </tr>\n",
       "    <tr>\n",
       "      <th>32</th>\n",
       "      <td>820</td>\n",
       "      <td>28</td>\n",
       "    </tr>\n",
       "    <tr>\n",
       "      <th>33</th>\n",
       "      <td>830</td>\n",
       "      <td>14</td>\n",
       "    </tr>\n",
       "    <tr>\n",
       "      <th>34</th>\n",
       "      <td>840</td>\n",
       "      <td>6</td>\n",
       "    </tr>\n",
       "    <tr>\n",
       "      <th>35</th>\n",
       "      <td>850</td>\n",
       "      <td>3</td>\n",
       "    </tr>\n",
       "  </tbody>\n",
       "</table>\n",
       "</div>"
      ],
      "text/plain": [
       "    fico_score  default_total\n",
       "0          500           3183\n",
       "1          510           7191\n",
       "2          520           8370\n",
       "3          530           9254\n",
       "4          540          10127\n",
       "5          550          10164\n",
       "6          560           9703\n",
       "7          570           9060\n",
       "8          580           8004\n",
       "9          590           6852\n",
       "10         600           5881\n",
       "11         610           5195\n",
       "12         620           4468\n",
       "13         630           3708\n",
       "14         640           2898\n",
       "15         650           2310\n",
       "16         660           4091\n",
       "17         670           5232\n",
       "18         680           3918\n",
       "19         690           2875\n",
       "20         700           2027\n",
       "21         710           1515\n",
       "22         720           1024\n",
       "23         730            613\n",
       "24         740            447\n",
       "25         750            298\n",
       "26         760            230\n",
       "27         770            167\n",
       "28         780            136\n",
       "29         790             92\n",
       "30         800             72\n",
       "31         810             52\n",
       "32         820             28\n",
       "33         830             14\n",
       "34         840              6\n",
       "35         850              3"
      ]
     },
     "execution_count": 37,
     "metadata": {},
     "output_type": "execute_result"
    }
   ],
   "source": [
    "fico_df"
   ]
  },
  {
   "cell_type": "code",
   "execution_count": 38,
   "metadata": {},
   "outputs": [
    {
     "data": {
      "text/html": [
       "<div>\n",
       "<style scoped>\n",
       "    .dataframe tbody tr th:only-of-type {\n",
       "        vertical-align: middle;\n",
       "    }\n",
       "\n",
       "    .dataframe tbody tr th {\n",
       "        vertical-align: top;\n",
       "    }\n",
       "\n",
       "    .dataframe thead th {\n",
       "        text-align: right;\n",
       "    }\n",
       "</style>\n",
       "<table border=\"1\" class=\"dataframe\">\n",
       "  <thead>\n",
       "    <tr style=\"text-align: right;\">\n",
       "      <th></th>\n",
       "      <th>fico_score</th>\n",
       "      <th>default_total</th>\n",
       "    </tr>\n",
       "  </thead>\n",
       "  <tbody>\n",
       "    <tr>\n",
       "      <th>fico_score</th>\n",
       "      <td>1.000000</td>\n",
       "      <td>-0.886782</td>\n",
       "    </tr>\n",
       "    <tr>\n",
       "      <th>default_total</th>\n",
       "      <td>-0.886782</td>\n",
       "      <td>1.000000</td>\n",
       "    </tr>\n",
       "  </tbody>\n",
       "</table>\n",
       "</div>"
      ],
      "text/plain": [
       "               fico_score  default_total\n",
       "fico_score       1.000000      -0.886782\n",
       "default_total   -0.886782       1.000000"
      ]
     },
     "execution_count": 38,
     "metadata": {},
     "output_type": "execute_result"
    }
   ],
   "source": [
    "fico_df[['fico_score', 'default_total']].corr()"
   ]
  },
  {
   "cell_type": "code",
   "execution_count": 39,
   "metadata": {},
   "outputs": [
    {
     "data": {
      "text/plain": [
       "<matplotlib.axes._subplots.AxesSubplot at 0x26726428fd0>"
      ]
     },
     "execution_count": 39,
     "metadata": {},
     "output_type": "execute_result"
    },
    {
     "data": {
      "image/png": "[encoded data removed]",
      "text/plain": [
       "<Figure size 432x288 with 1 Axes>"
      ]
     },
     "metadata": {
      "needs_background": "light"
     },
     "output_type": "display_data"
    }
   ],
   "source": [
    "sns.regplot(x='fico_score', y= 'default_total', data=fico_df)"
   ]
  },
  {
   "cell_type": "code",
   "execution_count": 40,
   "metadata": {},
   "outputs": [
    {
     "data": {
      "text/html": [
       "<div>\n",
       "<style scoped>\n",
       "    .dataframe tbody tr th:only-of-type {\n",
       "        vertical-align: middle;\n",
       "    }\n",
       "\n",
       "    .dataframe tbody tr th {\n",
       "        vertical-align: top;\n",
       "    }\n",
       "\n",
       "    .dataframe thead th {\n",
       "        text-align: right;\n",
       "    }\n",
       "</style>\n",
       "<table border=\"1\" class=\"dataframe\">\n",
       "  <thead>\n",
       "    <tr style=\"text-align: right;\">\n",
       "      <th></th>\n",
       "      <th>fico_score</th>\n",
       "      <th>default_total</th>\n",
       "    </tr>\n",
       "  </thead>\n",
       "  <tbody>\n",
       "    <tr>\n",
       "      <th>fico_score</th>\n",
       "      <td>1.000000</td>\n",
       "      <td>-0.939511</td>\n",
       "    </tr>\n",
       "    <tr>\n",
       "      <th>default_total</th>\n",
       "      <td>-0.939511</td>\n",
       "      <td>1.000000</td>\n",
       "    </tr>\n",
       "  </tbody>\n",
       "</table>\n",
       "</div>"
      ],
      "text/plain": [
       "               fico_score  default_total\n",
       "fico_score       1.000000      -0.939511\n",
       "default_total   -0.939511       1.000000"
      ]
     },
     "execution_count": 40,
     "metadata": {},
     "output_type": "execute_result"
    }
   ],
   "source": [
    "fico_df[['fico_score', 'default_total']].corr('spearman')"
   ]
  },
  {
   "cell_type": "code",
   "execution_count": 41,
   "metadata": {},
   "outputs": [
    {
     "name": "stdout",
     "output_type": "stream",
     "text": [
      "Requirement already satisfied: pwlf in c:\\users\\manjeet kaur\\appdata\\local\\conda\\conda\\envs\\deep-learning\\lib\\site-packages (2.0.0)\n",
      "Requirement already satisfied: scipy>=1.2.0 in c:\\users\\manjeet kaur\\appdata\\local\\conda\\conda\\envs\\deep-learning\\lib\\site-packages (from pwlf) (1.3.1)\n",
      "Requirement already satisfied: setuptools>=38.6.0 in c:\\users\\manjeet kaur\\appdata\\local\\conda\\conda\\envs\\deep-learning\\lib\\site-packages (from pwlf) (40.8.0)\n",
      "Requirement already satisfied: pyDOE>=0.3.8 in c:\\users\\manjeet kaur\\appdata\\local\\conda\\conda\\envs\\deep-learning\\lib\\site-packages (from pwlf) (0.3.8)\n",
      "Requirement already satisfied: numpy>=1.14.0 in c:\\users\\manjeet kaur\\appdata\\local\\conda\\conda\\envs\\deep-learning\\lib\\site-packages (from pwlf) (1.16.2)\n"
     ]
    }
   ],
   "source": [
    "!pip install pwlf\n",
    "import pwlf"
   ]
  },
  {
   "cell_type": "code",
   "execution_count": 42,
   "metadata": {},
   "outputs": [],
   "source": [
    "pwlf= pwlf.PiecewiseLinFit(fico_df['fico_score'], fico_df['default_total'])"
   ]
  },
  {
   "cell_type": "code",
   "execution_count": 43,
   "metadata": {},
   "outputs": [],
   "source": [
    "pwise_model= pwlf.fit(4)"
   ]
  },
  {
   "cell_type": "code",
   "execution_count": 44,
   "metadata": {},
   "outputs": [
    {
     "data": {
      "text/plain": [
       "array([500.        , 536.3924355 , 619.99999999, 759.15149189,\n",
       "       850.        ])"
      ]
     },
     "execution_count": 44,
     "metadata": {},
     "output_type": "execute_result"
    }
   ],
   "source": [
    "pwlf.fit_breaks"
   ]
  },
  {
   "cell_type": "code",
   "execution_count": 45,
   "metadata": {},
   "outputs": [
    {
     "data": {
      "text/plain": [
       "array([-92869.4619722 ,  53243.42935661,  24171.27624223,   2027.6953994 ])"
      ]
     },
     "execution_count": 45,
     "metadata": {},
     "output_type": "execute_result"
    }
   ],
   "source": [
    "pwlf.intercepts"
   ]
  },
  {
   "cell_type": "code",
   "execution_count": 46,
   "metadata": {},
   "outputs": [
    {
     "data": {
      "text/plain": [
       "array([193.92031812, -78.47892106, -31.58835152,  -2.41949513])"
      ]
     },
     "execution_count": 46,
     "metadata": {},
     "output_type": "execute_result"
    }
   ],
   "source": [
    "pwlf.slopes"
   ]
  },
  {
   "cell_type": "code",
   "execution_count": 47,
   "metadata": {},
   "outputs": [],
   "source": [
    "yhat_piecewise= pwlf.predict(fico_df['fico_score'])"
   ]
  },
  {
   "cell_type": "code",
   "execution_count": 48,
   "metadata": {},
   "outputs": [
    {
     "data": {
      "image/png": "[encoded data removed]",
      "text/plain": [
       "<Figure size 432x288 with 1 Axes>"
      ]
     },
     "metadata": {
      "needs_background": "light"
     },
     "output_type": "display_data"
    }
   ],
   "source": [
    "plt.figure()\n",
    "plt.plot(fico_df['fico_score'], fico_df['default_total'], 'o')\n",
    "plt.plot(fico_df['fico_score'], yhat_piecewise, '-')\n",
    "plt.show()"
   ]
  },
  {
   "cell_type": "code",
   "execution_count": null,
   "metadata": {},
   "outputs": [],
   "source": []
  }
 ],
 "metadata": {
  "kernelspec": {
   "display_name": "Python 3",
   "language": "python",
   "name": "python3"
  },
  "language_info": {
   "codemirror_mode": {
    "name": "ipython",
    "version": 3
   },
   "file_extension": ".py",
   "mimetype": "text/x-python",
   "name": "python",
   "nbconvert_exporter": "python",
   "pygments_lexer": "ipython3",
   "version": "3.6.8"
  }
 },
 "nbformat": 4,
 "nbformat_minor": 2
}
